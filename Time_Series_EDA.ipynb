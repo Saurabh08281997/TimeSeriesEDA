{
  "cells": [
    {
      "cell_type": "markdown",
      "metadata": {
        "id": "view-in-github",
        "colab_type": "text"
      },
      "source": [
        "<a href=\"https://colab.research.google.com/github/Saurabh08281997/TimeSeriesEDA/blob/main/Time_Series_EDA.ipynb\" target=\"_parent\"><img src=\"https://colab.research.google.com/assets/colab-badge.svg\" alt=\"Open In Colab\"/></a>"
      ]
    },
    {
      "cell_type": "markdown",
      "id": "91dd09ad",
      "metadata": {
        "id": "91dd09ad"
      },
      "source": [
        "## Time Series EDA"
      ]
    },
    {
      "cell_type": "code",
      "execution_count": 25,
      "id": "70d30d19",
      "metadata": {
        "colab": {
          "base_uri": "https://localhost:8080/"
        },
        "id": "70d30d19",
        "outputId": "2fdfc145-8f6e-4b35-f785-f38f8c3469c9"
      },
      "outputs": [
        {
          "output_type": "stream",
          "name": "stdout",
          "text": [
            "Looking in indexes: https://pypi.org/simple, https://us-python.pkg.dev/colab-wheels/public/simple/\n",
            "Requirement already satisfied: pandas-datareader in /usr/local/lib/python3.7/dist-packages (0.10.0)\n",
            "Requirement already satisfied: requests>=2.19.0 in /usr/local/lib/python3.7/dist-packages (from pandas-datareader) (2.23.0)\n",
            "Requirement already satisfied: pandas>=0.23 in /usr/local/lib/python3.7/dist-packages (from pandas-datareader) (1.3.5)\n",
            "Requirement already satisfied: lxml in /usr/local/lib/python3.7/dist-packages (from pandas-datareader) (4.2.6)\n",
            "Requirement already satisfied: python-dateutil>=2.7.3 in /usr/local/lib/python3.7/dist-packages (from pandas>=0.23->pandas-datareader) (2.8.2)\n",
            "Requirement already satisfied: pytz>=2017.3 in /usr/local/lib/python3.7/dist-packages (from pandas>=0.23->pandas-datareader) (2022.1)\n",
            "Requirement already satisfied: numpy>=1.17.3 in /usr/local/lib/python3.7/dist-packages (from pandas>=0.23->pandas-datareader) (1.21.6)\n",
            "Requirement already satisfied: six>=1.5 in /usr/local/lib/python3.7/dist-packages (from python-dateutil>=2.7.3->pandas>=0.23->pandas-datareader) (1.15.0)\n",
            "Requirement already satisfied: urllib3!=1.25.0,!=1.25.1,<1.26,>=1.21.1 in /usr/local/lib/python3.7/dist-packages (from requests>=2.19.0->pandas-datareader) (1.24.3)\n",
            "Requirement already satisfied: certifi>=2017.4.17 in /usr/local/lib/python3.7/dist-packages (from requests>=2.19.0->pandas-datareader) (2022.6.15)\n",
            "Requirement already satisfied: chardet<4,>=3.0.2 in /usr/local/lib/python3.7/dist-packages (from requests>=2.19.0->pandas-datareader) (3.0.4)\n",
            "Requirement already satisfied: idna<3,>=2.5 in /usr/local/lib/python3.7/dist-packages (from requests>=2.19.0->pandas-datareader) (2.10)\n",
            "Looking in indexes: https://pypi.org/simple, https://us-python.pkg.dev/colab-wheels/public/simple/\n",
            "Requirement already satisfied: pandas-datareader in /usr/local/lib/python3.7/dist-packages (0.10.0)\n",
            "Requirement already satisfied: requests>=2.19.0 in /usr/local/lib/python3.7/dist-packages (from pandas-datareader) (2.23.0)\n",
            "Requirement already satisfied: lxml in /usr/local/lib/python3.7/dist-packages (from pandas-datareader) (4.2.6)\n",
            "Requirement already satisfied: pandas>=0.23 in /usr/local/lib/python3.7/dist-packages (from pandas-datareader) (1.3.5)\n",
            "Requirement already satisfied: pytz>=2017.3 in /usr/local/lib/python3.7/dist-packages (from pandas>=0.23->pandas-datareader) (2022.1)\n",
            "Requirement already satisfied: numpy>=1.17.3 in /usr/local/lib/python3.7/dist-packages (from pandas>=0.23->pandas-datareader) (1.21.6)\n",
            "Requirement already satisfied: python-dateutil>=2.7.3 in /usr/local/lib/python3.7/dist-packages (from pandas>=0.23->pandas-datareader) (2.8.2)\n",
            "Requirement already satisfied: six>=1.5 in /usr/local/lib/python3.7/dist-packages (from python-dateutil>=2.7.3->pandas>=0.23->pandas-datareader) (1.15.0)\n",
            "Requirement already satisfied: idna<3,>=2.5 in /usr/local/lib/python3.7/dist-packages (from requests>=2.19.0->pandas-datareader) (2.10)\n",
            "Requirement already satisfied: chardet<4,>=3.0.2 in /usr/local/lib/python3.7/dist-packages (from requests>=2.19.0->pandas-datareader) (3.0.4)\n",
            "Requirement already satisfied: urllib3!=1.25.0,!=1.25.1,<1.26,>=1.21.1 in /usr/local/lib/python3.7/dist-packages (from requests>=2.19.0->pandas-datareader) (1.24.3)\n",
            "Requirement already satisfied: certifi>=2017.4.17 in /usr/local/lib/python3.7/dist-packages (from requests>=2.19.0->pandas-datareader) (2022.6.15)\n"
          ]
        }
      ],
      "source": [
        "## Install Pandas Data Reader\n",
        "!pip install pandas-datareader"
      ]
    },
    {
      "cell_type": "code",
      "execution_count": 18,
      "id": "a9aca849",
      "metadata": {
        "id": "a9aca849"
      },
      "outputs": [],
      "source": [
        "import pandas_datareader as pdr\n",
        "import pandas as pd\n",
        "from datetime import datetime"
      ]
    },
    {
      "cell_type": "code",
      "source": [
        "! pip install --upgrade pandas\n",
        "! pip install --upgrade pandas-datareader"
      ],
      "metadata": {
        "colab": {
          "base_uri": "https://localhost:8080/"
        },
        "id": "ggnDSkbpQaoO",
        "outputId": "7e4d4df6-eda8-44f7-a101-0ecd513ea04d"
      },
      "id": "ggnDSkbpQaoO",
      "execution_count": 19,
      "outputs": [
        {
          "output_type": "stream",
          "name": "stdout",
          "text": [
            "Looking in indexes: https://pypi.org/simple, https://us-python.pkg.dev/colab-wheels/public/simple/\n",
            "Requirement already satisfied: pandas in /usr/local/lib/python3.7/dist-packages (1.3.5)\n",
            "Requirement already satisfied: numpy>=1.17.3 in /usr/local/lib/python3.7/dist-packages (from pandas) (1.21.6)\n",
            "Requirement already satisfied: pytz>=2017.3 in /usr/local/lib/python3.7/dist-packages (from pandas) (2022.1)\n",
            "Requirement already satisfied: python-dateutil>=2.7.3 in /usr/local/lib/python3.7/dist-packages (from pandas) (2.8.2)\n",
            "Requirement already satisfied: six>=1.5 in /usr/local/lib/python3.7/dist-packages (from python-dateutil>=2.7.3->pandas) (1.15.0)\n",
            "Looking in indexes: https://pypi.org/simple, https://us-python.pkg.dev/colab-wheels/public/simple/\n",
            "Requirement already satisfied: pandas-datareader in /usr/local/lib/python3.7/dist-packages (0.10.0)\n",
            "Requirement already satisfied: pandas>=0.23 in /usr/local/lib/python3.7/dist-packages (from pandas-datareader) (1.3.5)\n",
            "Requirement already satisfied: requests>=2.19.0 in /usr/local/lib/python3.7/dist-packages (from pandas-datareader) (2.23.0)\n",
            "Requirement already satisfied: lxml in /usr/local/lib/python3.7/dist-packages (from pandas-datareader) (4.2.6)\n",
            "Requirement already satisfied: pytz>=2017.3 in /usr/local/lib/python3.7/dist-packages (from pandas>=0.23->pandas-datareader) (2022.1)\n",
            "Requirement already satisfied: numpy>=1.17.3 in /usr/local/lib/python3.7/dist-packages (from pandas>=0.23->pandas-datareader) (1.21.6)\n",
            "Requirement already satisfied: python-dateutil>=2.7.3 in /usr/local/lib/python3.7/dist-packages (from pandas>=0.23->pandas-datareader) (2.8.2)\n",
            "Requirement already satisfied: six>=1.5 in /usr/local/lib/python3.7/dist-packages (from python-dateutil>=2.7.3->pandas>=0.23->pandas-datareader) (1.15.0)\n",
            "Requirement already satisfied: idna<3,>=2.5 in /usr/local/lib/python3.7/dist-packages (from requests>=2.19.0->pandas-datareader) (2.10)\n",
            "Requirement already satisfied: chardet<4,>=3.0.2 in /usr/local/lib/python3.7/dist-packages (from requests>=2.19.0->pandas-datareader) (3.0.4)\n",
            "Requirement already satisfied: certifi>=2017.4.17 in /usr/local/lib/python3.7/dist-packages (from requests>=2.19.0->pandas-datareader) (2022.6.15)\n",
            "Requirement already satisfied: urllib3!=1.25.0,!=1.25.1,<1.26,>=1.21.1 in /usr/local/lib/python3.7/dist-packages (from requests>=2.19.0->pandas-datareader) (1.24.3)\n"
          ]
        }
      ]
    },
    {
      "cell_type": "code",
      "execution_count": 3,
      "id": "e044285a",
      "metadata": {
        "id": "e044285a"
      },
      "outputs": [],
      "source": [
        "df_tesla=pdr.get_data_yahoo('TSLA')"
      ]
    },
    {
      "cell_type": "code",
      "execution_count": 20,
      "id": "cd43450a",
      "metadata": {
        "colab": {
          "base_uri": "https://localhost:8080/",
          "height": 238
        },
        "id": "cd43450a",
        "outputId": "fbdc1bc0-1fa9-44a2-8eda-836a146d9330"
      },
      "outputs": [
        {
          "output_type": "execute_result",
          "data": {
            "text/plain": [
              "                  High         Low        Open       Close      Volume  \\\n",
              "Date                                                                     \n",
              "2022-07-11  759.190002  700.880005  756.309998  703.030029  33080400.0   \n",
              "2022-07-12  719.320007  685.109985  710.539978  699.210022  29310300.0   \n",
              "2022-07-13  726.179993  675.099976  676.500000  711.119995  32651500.0   \n",
              "2022-07-14  715.960022  688.000000  704.690002  714.940002  26185800.0   \n",
              "2022-07-15  730.869995  710.669983  720.000000  720.200012  23165500.0   \n",
              "\n",
              "             Adj Close  \n",
              "Date                    \n",
              "2022-07-11  703.030029  \n",
              "2022-07-12  699.210022  \n",
              "2022-07-13  711.119995  \n",
              "2022-07-14  714.940002  \n",
              "2022-07-15  720.200012  "
            ],
            "text/html": [
              "\n",
              "  <div id=\"df-16a499c2-1a7e-4749-b5ee-e4811eefb50a\">\n",
              "    <div class=\"colab-df-container\">\n",
              "      <div>\n",
              "<style scoped>\n",
              "    .dataframe tbody tr th:only-of-type {\n",
              "        vertical-align: middle;\n",
              "    }\n",
              "\n",
              "    .dataframe tbody tr th {\n",
              "        vertical-align: top;\n",
              "    }\n",
              "\n",
              "    .dataframe thead th {\n",
              "        text-align: right;\n",
              "    }\n",
              "</style>\n",
              "<table border=\"1\" class=\"dataframe\">\n",
              "  <thead>\n",
              "    <tr style=\"text-align: right;\">\n",
              "      <th></th>\n",
              "      <th>High</th>\n",
              "      <th>Low</th>\n",
              "      <th>Open</th>\n",
              "      <th>Close</th>\n",
              "      <th>Volume</th>\n",
              "      <th>Adj Close</th>\n",
              "    </tr>\n",
              "    <tr>\n",
              "      <th>Date</th>\n",
              "      <th></th>\n",
              "      <th></th>\n",
              "      <th></th>\n",
              "      <th></th>\n",
              "      <th></th>\n",
              "      <th></th>\n",
              "    </tr>\n",
              "  </thead>\n",
              "  <tbody>\n",
              "    <tr>\n",
              "      <th>2022-07-11</th>\n",
              "      <td>759.190002</td>\n",
              "      <td>700.880005</td>\n",
              "      <td>756.309998</td>\n",
              "      <td>703.030029</td>\n",
              "      <td>33080400.0</td>\n",
              "      <td>703.030029</td>\n",
              "    </tr>\n",
              "    <tr>\n",
              "      <th>2022-07-12</th>\n",
              "      <td>719.320007</td>\n",
              "      <td>685.109985</td>\n",
              "      <td>710.539978</td>\n",
              "      <td>699.210022</td>\n",
              "      <td>29310300.0</td>\n",
              "      <td>699.210022</td>\n",
              "    </tr>\n",
              "    <tr>\n",
              "      <th>2022-07-13</th>\n",
              "      <td>726.179993</td>\n",
              "      <td>675.099976</td>\n",
              "      <td>676.500000</td>\n",
              "      <td>711.119995</td>\n",
              "      <td>32651500.0</td>\n",
              "      <td>711.119995</td>\n",
              "    </tr>\n",
              "    <tr>\n",
              "      <th>2022-07-14</th>\n",
              "      <td>715.960022</td>\n",
              "      <td>688.000000</td>\n",
              "      <td>704.690002</td>\n",
              "      <td>714.940002</td>\n",
              "      <td>26185800.0</td>\n",
              "      <td>714.940002</td>\n",
              "    </tr>\n",
              "    <tr>\n",
              "      <th>2022-07-15</th>\n",
              "      <td>730.869995</td>\n",
              "      <td>710.669983</td>\n",
              "      <td>720.000000</td>\n",
              "      <td>720.200012</td>\n",
              "      <td>23165500.0</td>\n",
              "      <td>720.200012</td>\n",
              "    </tr>\n",
              "  </tbody>\n",
              "</table>\n",
              "</div>\n",
              "      <button class=\"colab-df-convert\" onclick=\"convertToInteractive('df-16a499c2-1a7e-4749-b5ee-e4811eefb50a')\"\n",
              "              title=\"Convert this dataframe to an interactive table.\"\n",
              "              style=\"display:none;\">\n",
              "        \n",
              "  <svg xmlns=\"http://www.w3.org/2000/svg\" height=\"24px\"viewBox=\"0 0 24 24\"\n",
              "       width=\"24px\">\n",
              "    <path d=\"M0 0h24v24H0V0z\" fill=\"none\"/>\n",
              "    <path d=\"M18.56 5.44l.94 2.06.94-2.06 2.06-.94-2.06-.94-.94-2.06-.94 2.06-2.06.94zm-11 1L8.5 8.5l.94-2.06 2.06-.94-2.06-.94L8.5 2.5l-.94 2.06-2.06.94zm10 10l.94 2.06.94-2.06 2.06-.94-2.06-.94-.94-2.06-.94 2.06-2.06.94z\"/><path d=\"M17.41 7.96l-1.37-1.37c-.4-.4-.92-.59-1.43-.59-.52 0-1.04.2-1.43.59L10.3 9.45l-7.72 7.72c-.78.78-.78 2.05 0 2.83L4 21.41c.39.39.9.59 1.41.59.51 0 1.02-.2 1.41-.59l7.78-7.78 2.81-2.81c.8-.78.8-2.07 0-2.86zM5.41 20L4 18.59l7.72-7.72 1.47 1.35L5.41 20z\"/>\n",
              "  </svg>\n",
              "      </button>\n",
              "      \n",
              "  <style>\n",
              "    .colab-df-container {\n",
              "      display:flex;\n",
              "      flex-wrap:wrap;\n",
              "      gap: 12px;\n",
              "    }\n",
              "\n",
              "    .colab-df-convert {\n",
              "      background-color: #E8F0FE;\n",
              "      border: none;\n",
              "      border-radius: 50%;\n",
              "      cursor: pointer;\n",
              "      display: none;\n",
              "      fill: #1967D2;\n",
              "      height: 32px;\n",
              "      padding: 0 0 0 0;\n",
              "      width: 32px;\n",
              "    }\n",
              "\n",
              "    .colab-df-convert:hover {\n",
              "      background-color: #E2EBFA;\n",
              "      box-shadow: 0px 1px 2px rgba(60, 64, 67, 0.3), 0px 1px 3px 1px rgba(60, 64, 67, 0.15);\n",
              "      fill: #174EA6;\n",
              "    }\n",
              "\n",
              "    [theme=dark] .colab-df-convert {\n",
              "      background-color: #3B4455;\n",
              "      fill: #D2E3FC;\n",
              "    }\n",
              "\n",
              "    [theme=dark] .colab-df-convert:hover {\n",
              "      background-color: #434B5C;\n",
              "      box-shadow: 0px 1px 3px 1px rgba(0, 0, 0, 0.15);\n",
              "      filter: drop-shadow(0px 1px 2px rgba(0, 0, 0, 0.3));\n",
              "      fill: #FFFFFF;\n",
              "    }\n",
              "  </style>\n",
              "\n",
              "      <script>\n",
              "        const buttonEl =\n",
              "          document.querySelector('#df-16a499c2-1a7e-4749-b5ee-e4811eefb50a button.colab-df-convert');\n",
              "        buttonEl.style.display =\n",
              "          google.colab.kernel.accessAllowed ? 'block' : 'none';\n",
              "\n",
              "        async function convertToInteractive(key) {\n",
              "          const element = document.querySelector('#df-16a499c2-1a7e-4749-b5ee-e4811eefb50a');\n",
              "          const dataTable =\n",
              "            await google.colab.kernel.invokeFunction('convertToInteractive',\n",
              "                                                     [key], {});\n",
              "          if (!dataTable) return;\n",
              "\n",
              "          const docLinkHtml = 'Like what you see? Visit the ' +\n",
              "            '<a target=\"_blank\" href=https://colab.research.google.com/notebooks/data_table.ipynb>data table notebook</a>'\n",
              "            + ' to learn more about interactive tables.';\n",
              "          element.innerHTML = '';\n",
              "          dataTable['output_type'] = 'display_data';\n",
              "          await google.colab.output.renderOutput(dataTable, element);\n",
              "          const docLink = document.createElement('div');\n",
              "          docLink.innerHTML = docLinkHtml;\n",
              "          element.appendChild(docLink);\n",
              "        }\n",
              "      </script>\n",
              "    </div>\n",
              "  </div>\n",
              "  "
            ]
          },
          "metadata": {},
          "execution_count": 20
        }
      ],
      "source": [
        "df_tesla.tail()"
      ]
    },
    {
      "cell_type": "code",
      "execution_count": 21,
      "id": "42b2ed0e",
      "metadata": {
        "colab": {
          "base_uri": "https://localhost:8080/",
          "height": 286
        },
        "id": "42b2ed0e",
        "outputId": "c82ca75b-d391-4235-8fa6-09bb179dde03"
      },
      "outputs": [
        {
          "output_type": "execute_result",
          "data": {
            "text/plain": [
              "<matplotlib.axes._subplots.AxesSubplot at 0x7f33adb28450>"
            ]
          },
          "metadata": {},
          "execution_count": 21
        },
        {
          "output_type": "display_data",
          "data": {
            "text/plain": [
              "<Figure size 864x288 with 1 Axes>"
            ],
            "image/png": "[encoded data removed]"
          },
          "metadata": {
            "needs_background": "light"
          }
        }
      ],
      "source": [
        "df_tesla['High'].plot(figsize=(12,4))"
      ]
    },
    {
      "cell_type": "code",
      "execution_count": 22,
      "id": "2564b531",
      "metadata": {
        "colab": {
          "base_uri": "https://localhost:8080/",
          "height": 294
        },
        "id": "2564b531",
        "outputId": "9f2d532b-59a5-483e-e2e0-d998e1c5fa17"
      },
      "outputs": [
        {
          "output_type": "execute_result",
          "data": {
            "text/plain": [
              "<matplotlib.axes._subplots.AxesSubplot at 0x7f33ada568d0>"
            ]
          },
          "metadata": {},
          "execution_count": 22
        },
        {
          "output_type": "display_data",
          "data": {
            "text/plain": [
              "<Figure size 1296x288 with 1 Axes>"
            ],
            "image/png": "[encoded data removed]"
          },
          "metadata": {
            "needs_background": "light"
          }
        }
      ],
      "source": [
        "## xlimit and y limit\n",
        "df_tesla['High'].plot(xlim=['2020-01-01','2022-07-01'],figsize=(18,4))"
      ]
    },
    {
      "cell_type": "code",
      "execution_count": 26,
      "id": "8a927152",
      "metadata": {
        "colab": {
          "base_uri": "https://localhost:8080/",
          "height": 294
        },
        "id": "8a927152",
        "outputId": "fffa699a-3bcb-4898-eb90-1614cc1980b1"
      },
      "outputs": [
        {
          "output_type": "execute_result",
          "data": {
            "text/plain": [
              "<matplotlib.axes._subplots.AxesSubplot at 0x7f33ad9376d0>"
            ]
          },
          "metadata": {},
          "execution_count": 26
        },
        {
          "output_type": "display_data",
          "data": {
            "text/plain": [
              "<Figure size 1296x288 with 1 Axes>"
            ],
            "image/png": "[encoded data removed]"
          },
          "metadata": {
            "needs_background": "light"
          }
        }
      ],
      "source": [
        "## xlimit and y limit\n",
        "df_tesla['High'].plot(xlim=['2020-01-01','2022-07-01'],ylim=[0,1300],figsize=(18,4))"
      ]
    },
    {
      "cell_type": "code",
      "execution_count": 27,
      "id": "a1c26cc4",
      "metadata": {
        "colab": {
          "base_uri": "https://localhost:8080/",
          "height": 294
        },
        "id": "a1c26cc4",
        "outputId": "2dd37f63-935d-42fe-cef7-cc0c06210c21"
      },
      "outputs": [
        {
          "output_type": "execute_result",
          "data": {
            "text/plain": [
              "<matplotlib.axes._subplots.AxesSubplot at 0x7f33ad8c7890>"
            ]
          },
          "metadata": {},
          "execution_count": 27
        },
        {
          "output_type": "display_data",
          "data": {
            "text/plain": [
              "<Figure size 1296x288 with 1 Axes>"
            ],
            "image/png": "[encoded data removed]"
          },
          "metadata": {
            "needs_background": "light"
          }
        }
      ],
      "source": [
        "## xlimit and y limit and coloring\n",
        "df_tesla['High'].plot(xlim=['2020-01-01','2022-07-01'],ylim=[0,1300],figsize=(18,4),ls='--',c='green')"
      ]
    },
    {
      "cell_type": "code",
      "execution_count": 28,
      "id": "f5abbe0e",
      "metadata": {
        "colab": {
          "base_uri": "https://localhost:8080/"
        },
        "id": "f5abbe0e",
        "outputId": "613ca4f0-a16c-47b9-9c3b-dd336d4d2eb6"
      },
      "outputs": [
        {
          "output_type": "execute_result",
          "data": {
            "text/plain": [
              "DatetimeIndex(['2017-07-19', '2017-07-20', '2017-07-21', '2017-07-24',\n",
              "               '2017-07-25', '2017-07-26', '2017-07-27', '2017-07-28',\n",
              "               '2017-07-31', '2017-08-01',\n",
              "               ...\n",
              "               '2022-07-01', '2022-07-05', '2022-07-06', '2022-07-07',\n",
              "               '2022-07-08', '2022-07-11', '2022-07-12', '2022-07-13',\n",
              "               '2022-07-14', '2022-07-15'],\n",
              "              dtype='datetime64[ns]', name='Date', length=1257, freq=None)"
            ]
          },
          "metadata": {},
          "execution_count": 28
        }
      ],
      "source": [
        "df_tesla.index"
      ]
    },
    {
      "cell_type": "code",
      "execution_count": 29,
      "id": "7214bae7",
      "metadata": {
        "id": "7214bae7"
      },
      "outputs": [],
      "source": [
        "index=df_tesla.loc['2020-01-01':'2022-07-01'].index\n",
        "share_open=df_tesla.loc['2020-01-01':'2022-07-01']['Open']"
      ]
    },
    {
      "cell_type": "code",
      "execution_count": 30,
      "id": "7d29fec6",
      "metadata": {
        "colab": {
          "base_uri": "https://localhost:8080/"
        },
        "id": "7d29fec6",
        "outputId": "b4f6efcd-e6e4-4f96-d26b-05345de82bd8"
      },
      "outputs": [
        {
          "output_type": "execute_result",
          "data": {
            "text/plain": [
              "Date\n",
              "2020-01-02     84.900002\n",
              "2020-01-03     88.099998\n",
              "2020-01-06     88.094002\n",
              "2020-01-07     92.279999\n",
              "2020-01-08     94.739998\n",
              "                 ...    \n",
              "2022-06-27    748.099976\n",
              "2022-06-28    733.450012\n",
              "2022-06-29    691.500000\n",
              "2022-06-30    673.530029\n",
              "2022-07-01    681.000000\n",
              "Name: Open, Length: 630, dtype: float64"
            ]
          },
          "metadata": {},
          "execution_count": 30
        }
      ],
      "source": [
        "share_open"
      ]
    },
    {
      "cell_type": "code",
      "execution_count": 31,
      "id": "a4c4cabb",
      "metadata": {
        "colab": {
          "base_uri": "https://localhost:8080/"
        },
        "id": "a4c4cabb",
        "outputId": "c587c4f7-35b0-483a-cf08-e4285c94ae77"
      },
      "outputs": [
        {
          "output_type": "execute_result",
          "data": {
            "text/plain": [
              "DatetimeIndex(['2020-01-02', '2020-01-03', '2020-01-06', '2020-01-07',\n",
              "               '2020-01-08', '2020-01-09', '2020-01-10', '2020-01-13',\n",
              "               '2020-01-14', '2020-01-15',\n",
              "               ...\n",
              "               '2022-06-17', '2022-06-21', '2022-06-22', '2022-06-23',\n",
              "               '2022-06-24', '2022-06-27', '2022-06-28', '2022-06-29',\n",
              "               '2022-06-30', '2022-07-01'],\n",
              "              dtype='datetime64[ns]', name='Date', length=630, freq=None)"
            ]
          },
          "metadata": {},
          "execution_count": 31
        }
      ],
      "source": [
        "index"
      ]
    },
    {
      "cell_type": "code",
      "execution_count": 32,
      "id": "dea1b66c",
      "metadata": {
        "id": "dea1b66c"
      },
      "outputs": [],
      "source": [
        "import matplotlib.pyplot as plt\n",
        "%matplotlib inline"
      ]
    },
    {
      "cell_type": "code",
      "execution_count": 33,
      "id": "5da74d25",
      "metadata": {
        "colab": {
          "base_uri": "https://localhost:8080/",
          "height": 300
        },
        "id": "5da74d25",
        "outputId": "976abfc3-8714-49fc-90fd-2696f9dbe6be"
      },
      "outputs": [
        {
          "output_type": "execute_result",
          "data": {
            "text/plain": [
              "[<matplotlib.lines.Line2D at 0x7f33ae0254d0>]"
            ]
          },
          "metadata": {},
          "execution_count": 33
        },
        {
          "output_type": "display_data",
          "data": {
            "text/plain": [
              "<Figure size 432x288 with 1 Axes>"
            ],
            "image/png": "[encoded data removed]"
          },
          "metadata": {
            "needs_background": "light"
          }
        }
      ],
      "source": [
        "figure,axis=plt.subplots()\n",
        "plt.tight_layout()\n",
        "## Preventing overlapping\n",
        "figure.autofmt_xdate()\n",
        "axis.plot(index,share_open)"
      ]
    },
    {
      "cell_type": "code",
      "execution_count": 34,
      "id": "83149bd0",
      "metadata": {
        "id": "83149bd0"
      },
      "outputs": [],
      "source": [
        "## Datetime Index"
      ]
    },
    {
      "cell_type": "code",
      "execution_count": 35,
      "id": "8350ca58",
      "metadata": {
        "id": "8350ca58"
      },
      "outputs": [],
      "source": [
        "df_tesla=df_tesla.reset_index()"
      ]
    },
    {
      "cell_type": "code",
      "execution_count": 36,
      "id": "6746d682",
      "metadata": {
        "colab": {
          "base_uri": "https://localhost:8080/"
        },
        "id": "6746d682",
        "outputId": "e4b1b493-135f-4cab-f55b-0ff78f45d08d"
      },
      "outputs": [
        {
          "output_type": "stream",
          "name": "stdout",
          "text": [
            "<class 'pandas.core.frame.DataFrame'>\n",
            "RangeIndex: 1257 entries, 0 to 1256\n",
            "Data columns (total 7 columns):\n",
            " #   Column     Non-Null Count  Dtype         \n",
            "---  ------     --------------  -----         \n",
            " 0   Date       1257 non-null   datetime64[ns]\n",
            " 1   High       1257 non-null   float64       \n",
            " 2   Low        1257 non-null   float64       \n",
            " 3   Open       1257 non-null   float64       \n",
            " 4   Close      1257 non-null   float64       \n",
            " 5   Volume     1257 non-null   float64       \n",
            " 6   Adj Close  1257 non-null   float64       \n",
            "dtypes: datetime64[ns](1), float64(6)\n",
            "memory usage: 68.9 KB\n"
          ]
        }
      ],
      "source": [
        "df_tesla.info()"
      ]
    },
    {
      "cell_type": "code",
      "execution_count": 37,
      "id": "31c87e86",
      "metadata": {
        "id": "31c87e86"
      },
      "outputs": [],
      "source": [
        "df_tesla=df_tesla.set_index('Date',drop=True)"
      ]
    },
    {
      "cell_type": "code",
      "execution_count": 38,
      "id": "7423d545",
      "metadata": {
        "colab": {
          "base_uri": "https://localhost:8080/",
          "height": 238
        },
        "id": "7423d545",
        "outputId": "e7ac875d-cf28-49cd-d023-50a2cede6735"
      },
      "outputs": [
        {
          "output_type": "execute_result",
          "data": {
            "text/plain": [
              "                 High        Low       Open      Close      Volume  Adj Close\n",
              "Date                                                                         \n",
              "2017-07-19  66.330002  64.643997  65.646004  65.052002  31785000.0  65.052002\n",
              "2017-07-20  66.043999  64.839996  65.379997  65.984001  25831000.0  65.984001\n",
              "2017-07-21  66.251999  65.160004  65.891998  65.680000  24508000.0  65.680000\n",
              "2017-07-24  68.680000  66.001999  66.047997  68.503998  43185500.0  68.503998\n",
              "2017-07-25  69.120003  66.830002  69.000000  67.919998  34946000.0  67.919998"
            ],
            "text/html": [
              "\n",
              "  <div id=\"df-61d48b49-f8ae-44ba-a4f2-7c160472b5b9\">\n",
              "    <div class=\"colab-df-container\">\n",
              "      <div>\n",
              "<style scoped>\n",
              "    .dataframe tbody tr th:only-of-type {\n",
              "        vertical-align: middle;\n",
              "    }\n",
              "\n",
              "    .dataframe tbody tr th {\n",
              "        vertical-align: top;\n",
              "    }\n",
              "\n",
              "    .dataframe thead th {\n",
              "        text-align: right;\n",
              "    }\n",
              "</style>\n",
              "<table border=\"1\" class=\"dataframe\">\n",
              "  <thead>\n",
              "    <tr style=\"text-align: right;\">\n",
              "      <th></th>\n",
              "      <th>High</th>\n",
              "      <th>Low</th>\n",
              "      <th>Open</th>\n",
              "      <th>Close</th>\n",
              "      <th>Volume</th>\n",
              "      <th>Adj Close</th>\n",
              "    </tr>\n",
              "    <tr>\n",
              "      <th>Date</th>\n",
              "      <th></th>\n",
              "      <th></th>\n",
              "      <th></th>\n",
              "      <th></th>\n",
              "      <th></th>\n",
              "      <th></th>\n",
              "    </tr>\n",
              "  </thead>\n",
              "  <tbody>\n",
              "    <tr>\n",
              "      <th>2017-07-19</th>\n",
              "      <td>66.330002</td>\n",
              "      <td>64.643997</td>\n",
              "      <td>65.646004</td>\n",
              "      <td>65.052002</td>\n",
              "      <td>31785000.0</td>\n",
              "      <td>65.052002</td>\n",
              "    </tr>\n",
              "    <tr>\n",
              "      <th>2017-07-20</th>\n",
              "      <td>66.043999</td>\n",
              "      <td>64.839996</td>\n",
              "      <td>65.379997</td>\n",
              "      <td>65.984001</td>\n",
              "      <td>25831000.0</td>\n",
              "      <td>65.984001</td>\n",
              "    </tr>\n",
              "    <tr>\n",
              "      <th>2017-07-21</th>\n",
              "      <td>66.251999</td>\n",
              "      <td>65.160004</td>\n",
              "      <td>65.891998</td>\n",
              "      <td>65.680000</td>\n",
              "      <td>24508000.0</td>\n",
              "      <td>65.680000</td>\n",
              "    </tr>\n",
              "    <tr>\n",
              "      <th>2017-07-24</th>\n",
              "      <td>68.680000</td>\n",
              "      <td>66.001999</td>\n",
              "      <td>66.047997</td>\n",
              "      <td>68.503998</td>\n",
              "      <td>43185500.0</td>\n",
              "      <td>68.503998</td>\n",
              "    </tr>\n",
              "    <tr>\n",
              "      <th>2017-07-25</th>\n",
              "      <td>69.120003</td>\n",
              "      <td>66.830002</td>\n",
              "      <td>69.000000</td>\n",
              "      <td>67.919998</td>\n",
              "      <td>34946000.0</td>\n",
              "      <td>67.919998</td>\n",
              "    </tr>\n",
              "  </tbody>\n",
              "</table>\n",
              "</div>\n",
              "      <button class=\"colab-df-convert\" onclick=\"convertToInteractive('df-61d48b49-f8ae-44ba-a4f2-7c160472b5b9')\"\n",
              "              title=\"Convert this dataframe to an interactive table.\"\n",
              "              style=\"display:none;\">\n",
              "        \n",
              "  <svg xmlns=\"http://www.w3.org/2000/svg\" height=\"24px\"viewBox=\"0 0 24 24\"\n",
              "       width=\"24px\">\n",
              "    <path d=\"M0 0h24v24H0V0z\" fill=\"none\"/>\n",
              "    <path d=\"M18.56 5.44l.94 2.06.94-2.06 2.06-.94-2.06-.94-.94-2.06-.94 2.06-2.06.94zm-11 1L8.5 8.5l.94-2.06 2.06-.94-2.06-.94L8.5 2.5l-.94 2.06-2.06.94zm10 10l.94 2.06.94-2.06 2.06-.94-2.06-.94-.94-2.06-.94 2.06-2.06.94z\"/><path d=\"M17.41 7.96l-1.37-1.37c-.4-.4-.92-.59-1.43-.59-.52 0-1.04.2-1.43.59L10.3 9.45l-7.72 7.72c-.78.78-.78 2.05 0 2.83L4 21.41c.39.39.9.59 1.41.59.51 0 1.02-.2 1.41-.59l7.78-7.78 2.81-2.81c.8-.78.8-2.07 0-2.86zM5.41 20L4 18.59l7.72-7.72 1.47 1.35L5.41 20z\"/>\n",
              "  </svg>\n",
              "      </button>\n",
              "      \n",
              "  <style>\n",
              "    .colab-df-container {\n",
              "      display:flex;\n",
              "      flex-wrap:wrap;\n",
              "      gap: 12px;\n",
              "    }\n",
              "\n",
              "    .colab-df-convert {\n",
              "      background-color: #E8F0FE;\n",
              "      border: none;\n",
              "      border-radius: 50%;\n",
              "      cursor: pointer;\n",
              "      display: none;\n",
              "      fill: #1967D2;\n",
              "      height: 32px;\n",
              "      padding: 0 0 0 0;\n",
              "      width: 32px;\n",
              "    }\n",
              "\n",
              "    .colab-df-convert:hover {\n",
              "      background-color: #E2EBFA;\n",
              "      box-shadow: 0px 1px 2px rgba(60, 64, 67, 0.3), 0px 1px 3px 1px rgba(60, 64, 67, 0.15);\n",
              "      fill: #174EA6;\n",
              "    }\n",
              "\n",
              "    [theme=dark] .colab-df-convert {\n",
              "      background-color: #3B4455;\n",
              "      fill: #D2E3FC;\n",
              "    }\n",
              "\n",
              "    [theme=dark] .colab-df-convert:hover {\n",
              "      background-color: #434B5C;\n",
              "      box-shadow: 0px 1px 3px 1px rgba(0, 0, 0, 0.15);\n",
              "      filter: drop-shadow(0px 1px 2px rgba(0, 0, 0, 0.3));\n",
              "      fill: #FFFFFF;\n",
              "    }\n",
              "  </style>\n",
              "\n",
              "      <script>\n",
              "        const buttonEl =\n",
              "          document.querySelector('#df-61d48b49-f8ae-44ba-a4f2-7c160472b5b9 button.colab-df-convert');\n",
              "        buttonEl.style.display =\n",
              "          google.colab.kernel.accessAllowed ? 'block' : 'none';\n",
              "\n",
              "        async function convertToInteractive(key) {\n",
              "          const element = document.querySelector('#df-61d48b49-f8ae-44ba-a4f2-7c160472b5b9');\n",
              "          const dataTable =\n",
              "            await google.colab.kernel.invokeFunction('convertToInteractive',\n",
              "                                                     [key], {});\n",
              "          if (!dataTable) return;\n",
              "\n",
              "          const docLinkHtml = 'Like what you see? Visit the ' +\n",
              "            '<a target=\"_blank\" href=https://colab.research.google.com/notebooks/data_table.ipynb>data table notebook</a>'\n",
              "            + ' to learn more about interactive tables.';\n",
              "          element.innerHTML = '';\n",
              "          dataTable['output_type'] = 'display_data';\n",
              "          await google.colab.output.renderOutput(dataTable, element);\n",
              "          const docLink = document.createElement('div');\n",
              "          docLink.innerHTML = docLinkHtml;\n",
              "          element.appendChild(docLink);\n",
              "        }\n",
              "      </script>\n",
              "    </div>\n",
              "  </div>\n",
              "  "
            ]
          },
          "metadata": {},
          "execution_count": 38
        }
      ],
      "source": [
        "df_tesla.head()"
      ]
    },
    {
      "cell_type": "code",
      "execution_count": 39,
      "id": "ed080582",
      "metadata": {
        "id": "ed080582"
      },
      "outputs": [],
      "source": [
        "## datetime\n",
        "from datetime import datetime"
      ]
    },
    {
      "cell_type": "code",
      "execution_count": 40,
      "id": "8bdca59d",
      "metadata": {
        "colab": {
          "base_uri": "https://localhost:8080/"
        },
        "id": "8bdca59d",
        "outputId": "3eba2ebf-f856-46f5-adc3-84a5d7a569fa"
      },
      "outputs": [
        {
          "output_type": "execute_result",
          "data": {
            "text/plain": [
              "datetime.datetime(2021, 11, 21, 0, 0)"
            ]
          },
          "metadata": {},
          "execution_count": 40
        }
      ],
      "source": [
        "datetime(2021,11,21)"
      ]
    },
    {
      "cell_type": "code",
      "execution_count": 41,
      "id": "1f93e9a3",
      "metadata": {
        "colab": {
          "base_uri": "https://localhost:8080/"
        },
        "id": "1f93e9a3",
        "outputId": "1647975d-67e9-4769-eea3-734abc205372"
      },
      "outputs": [
        {
          "output_type": "execute_result",
          "data": {
            "text/plain": [
              "datetime.datetime(2022, 7, 18, 3, 32, 14, 423860)"
            ]
          },
          "metadata": {},
          "execution_count": 41
        }
      ],
      "source": [
        "datetime.now()"
      ]
    },
    {
      "cell_type": "code",
      "execution_count": 42,
      "id": "5069c363",
      "metadata": {
        "id": "5069c363"
      },
      "outputs": [],
      "source": [
        "date=datetime(2021,11,21)"
      ]
    },
    {
      "cell_type": "code",
      "execution_count": 43,
      "id": "141a0f6c",
      "metadata": {
        "colab": {
          "base_uri": "https://localhost:8080/"
        },
        "id": "141a0f6c",
        "outputId": "8c1bb3fc-2c1a-4a36-95cc-c4201604720a"
      },
      "outputs": [
        {
          "output_type": "execute_result",
          "data": {
            "text/plain": [
              "datetime.datetime(2021, 11, 21, 0, 0)"
            ]
          },
          "metadata": {},
          "execution_count": 43
        }
      ],
      "source": [
        "date"
      ]
    },
    {
      "cell_type": "code",
      "execution_count": 44,
      "id": "10c90eef",
      "metadata": {
        "colab": {
          "base_uri": "https://localhost:8080/"
        },
        "id": "10c90eef",
        "outputId": "f0740c7a-d728-44ae-9301-c20daa0823b3"
      },
      "outputs": [
        {
          "output_type": "execute_result",
          "data": {
            "text/plain": [
              "datetime.date(2021, 11, 21)"
            ]
          },
          "metadata": {},
          "execution_count": 44
        }
      ],
      "source": [
        "date.date()"
      ]
    },
    {
      "cell_type": "code",
      "execution_count": 45,
      "id": "8d5c191c",
      "metadata": {
        "colab": {
          "base_uri": "https://localhost:8080/"
        },
        "id": "8d5c191c",
        "outputId": "2853c4ba-4f74-417c-f628-ac0ba7ee57c2"
      },
      "outputs": [
        {
          "output_type": "execute_result",
          "data": {
            "text/plain": [
              "21"
            ]
          },
          "metadata": {},
          "execution_count": 45
        }
      ],
      "source": [
        "date.day"
      ]
    },
    {
      "cell_type": "code",
      "execution_count": 46,
      "id": "bff30466",
      "metadata": {
        "colab": {
          "base_uri": "https://localhost:8080/"
        },
        "id": "bff30466",
        "outputId": "3549e5ca-7d64-4688-e4e5-c60614a739f5"
      },
      "outputs": [
        {
          "output_type": "execute_result",
          "data": {
            "text/plain": [
              "6"
            ]
          },
          "metadata": {},
          "execution_count": 46
        }
      ],
      "source": [
        "date.weekday()"
      ]
    },
    {
      "cell_type": "code",
      "execution_count": 47,
      "id": "602b8aea",
      "metadata": {
        "colab": {
          "base_uri": "https://localhost:8080/"
        },
        "id": "602b8aea",
        "outputId": "7a93f2de-74ae-40f2-e435-3a048f6a9334"
      },
      "outputs": [
        {
          "output_type": "execute_result",
          "data": {
            "text/plain": [
              "2021"
            ]
          },
          "metadata": {},
          "execution_count": 47
        }
      ],
      "source": [
        "date.year"
      ]
    },
    {
      "cell_type": "code",
      "execution_count": 48,
      "id": "020b199c",
      "metadata": {
        "colab": {
          "base_uri": "https://localhost:8080/"
        },
        "id": "020b199c",
        "outputId": "34f8023a-f6d3-47fe-b0c6-576896a546e8"
      },
      "outputs": [
        {
          "output_type": "execute_result",
          "data": {
            "text/plain": [
              "11"
            ]
          },
          "metadata": {},
          "execution_count": 48
        }
      ],
      "source": [
        "date.month"
      ]
    },
    {
      "cell_type": "markdown",
      "id": "4bec9dbb",
      "metadata": {
        "id": "4bec9dbb"
      },
      "source": [
        "## Time Resampling"
      ]
    },
    {
      "cell_type": "code",
      "execution_count": 49,
      "id": "a1dc9a47",
      "metadata": {
        "colab": {
          "base_uri": "https://localhost:8080/",
          "height": 238
        },
        "id": "a1dc9a47",
        "outputId": "f8d7066e-8e8b-4ab0-8de1-db5151b0237b"
      },
      "outputs": [
        {
          "output_type": "execute_result",
          "data": {
            "text/plain": [
              "                 High        Low       Open      Close      Volume  Adj Close\n",
              "Date                                                                         \n",
              "2017-07-19  66.330002  64.643997  65.646004  65.052002  31785000.0  65.052002\n",
              "2017-07-20  66.043999  64.839996  65.379997  65.984001  25831000.0  65.984001\n",
              "2017-07-21  66.251999  65.160004  65.891998  65.680000  24508000.0  65.680000\n",
              "2017-07-24  68.680000  66.001999  66.047997  68.503998  43185500.0  68.503998\n",
              "2017-07-25  69.120003  66.830002  69.000000  67.919998  34946000.0  67.919998"
            ],
            "text/html": [
              "\n",
              "  <div id=\"df-9594c2e7-791b-4c19-b286-8bcb31a7ef7c\">\n",
              "    <div class=\"colab-df-container\">\n",
              "      <div>\n",
              "<style scoped>\n",
              "    .dataframe tbody tr th:only-of-type {\n",
              "        vertical-align: middle;\n",
              "    }\n",
              "\n",
              "    .dataframe tbody tr th {\n",
              "        vertical-align: top;\n",
              "    }\n",
              "\n",
              "    .dataframe thead th {\n",
              "        text-align: right;\n",
              "    }\n",
              "</style>\n",
              "<table border=\"1\" class=\"dataframe\">\n",
              "  <thead>\n",
              "    <tr style=\"text-align: right;\">\n",
              "      <th></th>\n",
              "      <th>High</th>\n",
              "      <th>Low</th>\n",
              "      <th>Open</th>\n",
              "      <th>Close</th>\n",
              "      <th>Volume</th>\n",
              "      <th>Adj Close</th>\n",
              "    </tr>\n",
              "    <tr>\n",
              "      <th>Date</th>\n",
              "      <th></th>\n",
              "      <th></th>\n",
              "      <th></th>\n",
              "      <th></th>\n",
              "      <th></th>\n",
              "      <th></th>\n",
              "    </tr>\n",
              "  </thead>\n",
              "  <tbody>\n",
              "    <tr>\n",
              "      <th>2017-07-19</th>\n",
              "      <td>66.330002</td>\n",
              "      <td>64.643997</td>\n",
              "      <td>65.646004</td>\n",
              "      <td>65.052002</td>\n",
              "      <td>31785000.0</td>\n",
              "      <td>65.052002</td>\n",
              "    </tr>\n",
              "    <tr>\n",
              "      <th>2017-07-20</th>\n",
              "      <td>66.043999</td>\n",
              "      <td>64.839996</td>\n",
              "      <td>65.379997</td>\n",
              "      <td>65.984001</td>\n",
              "      <td>25831000.0</td>\n",
              "      <td>65.984001</td>\n",
              "    </tr>\n",
              "    <tr>\n",
              "      <th>2017-07-21</th>\n",
              "      <td>66.251999</td>\n",
              "      <td>65.160004</td>\n",
              "      <td>65.891998</td>\n",
              "      <td>65.680000</td>\n",
              "      <td>24508000.0</td>\n",
              "      <td>65.680000</td>\n",
              "    </tr>\n",
              "    <tr>\n",
              "      <th>2017-07-24</th>\n",
              "      <td>68.680000</td>\n",
              "      <td>66.001999</td>\n",
              "      <td>66.047997</td>\n",
              "      <td>68.503998</td>\n",
              "      <td>43185500.0</td>\n",
              "      <td>68.503998</td>\n",
              "    </tr>\n",
              "    <tr>\n",
              "      <th>2017-07-25</th>\n",
              "      <td>69.120003</td>\n",
              "      <td>66.830002</td>\n",
              "      <td>69.000000</td>\n",
              "      <td>67.919998</td>\n",
              "      <td>34946000.0</td>\n",
              "      <td>67.919998</td>\n",
              "    </tr>\n",
              "  </tbody>\n",
              "</table>\n",
              "</div>\n",
              "      <button class=\"colab-df-convert\" onclick=\"convertToInteractive('df-9594c2e7-791b-4c19-b286-8bcb31a7ef7c')\"\n",
              "              title=\"Convert this dataframe to an interactive table.\"\n",
              "              style=\"display:none;\">\n",
              "        \n",
              "  <svg xmlns=\"http://www.w3.org/2000/svg\" height=\"24px\"viewBox=\"0 0 24 24\"\n",
              "       width=\"24px\">\n",
              "    <path d=\"M0 0h24v24H0V0z\" fill=\"none\"/>\n",
              "    <path d=\"M18.56 5.44l.94 2.06.94-2.06 2.06-.94-2.06-.94-.94-2.06-.94 2.06-2.06.94zm-11 1L8.5 8.5l.94-2.06 2.06-.94-2.06-.94L8.5 2.5l-.94 2.06-2.06.94zm10 10l.94 2.06.94-2.06 2.06-.94-2.06-.94-.94-2.06-.94 2.06-2.06.94z\"/><path d=\"M17.41 7.96l-1.37-1.37c-.4-.4-.92-.59-1.43-.59-.52 0-1.04.2-1.43.59L10.3 9.45l-7.72 7.72c-.78.78-.78 2.05 0 2.83L4 21.41c.39.39.9.59 1.41.59.51 0 1.02-.2 1.41-.59l7.78-7.78 2.81-2.81c.8-.78.8-2.07 0-2.86zM5.41 20L4 18.59l7.72-7.72 1.47 1.35L5.41 20z\"/>\n",
              "  </svg>\n",
              "      </button>\n",
              "      \n",
              "  <style>\n",
              "    .colab-df-container {\n",
              "      display:flex;\n",
              "      flex-wrap:wrap;\n",
              "      gap: 12px;\n",
              "    }\n",
              "\n",
              "    .colab-df-convert {\n",
              "      background-color: #E8F0FE;\n",
              "      border: none;\n",
              "      border-radius: 50%;\n",
              "      cursor: pointer;\n",
              "      display: none;\n",
              "      fill: #1967D2;\n",
              "      height: 32px;\n",
              "      padding: 0 0 0 0;\n",
              "      width: 32px;\n",
              "    }\n",
              "\n",
              "    .colab-df-convert:hover {\n",
              "      background-color: #E2EBFA;\n",
              "      box-shadow: 0px 1px 2px rgba(60, 64, 67, 0.3), 0px 1px 3px 1px rgba(60, 64, 67, 0.15);\n",
              "      fill: #174EA6;\n",
              "    }\n",
              "\n",
              "    [theme=dark] .colab-df-convert {\n",
              "      background-color: #3B4455;\n",
              "      fill: #D2E3FC;\n",
              "    }\n",
              "\n",
              "    [theme=dark] .colab-df-convert:hover {\n",
              "      background-color: #434B5C;\n",
              "      box-shadow: 0px 1px 3px 1px rgba(0, 0, 0, 0.15);\n",
              "      filter: drop-shadow(0px 1px 2px rgba(0, 0, 0, 0.3));\n",
              "      fill: #FFFFFF;\n",
              "    }\n",
              "  </style>\n",
              "\n",
              "      <script>\n",
              "        const buttonEl =\n",
              "          document.querySelector('#df-9594c2e7-791b-4c19-b286-8bcb31a7ef7c button.colab-df-convert');\n",
              "        buttonEl.style.display =\n",
              "          google.colab.kernel.accessAllowed ? 'block' : 'none';\n",
              "\n",
              "        async function convertToInteractive(key) {\n",
              "          const element = document.querySelector('#df-9594c2e7-791b-4c19-b286-8bcb31a7ef7c');\n",
              "          const dataTable =\n",
              "            await google.colab.kernel.invokeFunction('convertToInteractive',\n",
              "                                                     [key], {});\n",
              "          if (!dataTable) return;\n",
              "\n",
              "          const docLinkHtml = 'Like what you see? Visit the ' +\n",
              "            '<a target=\"_blank\" href=https://colab.research.google.com/notebooks/data_table.ipynb>data table notebook</a>'\n",
              "            + ' to learn more about interactive tables.';\n",
              "          element.innerHTML = '';\n",
              "          dataTable['output_type'] = 'display_data';\n",
              "          await google.colab.output.renderOutput(dataTable, element);\n",
              "          const docLink = document.createElement('div');\n",
              "          docLink.innerHTML = docLinkHtml;\n",
              "          element.appendChild(docLink);\n",
              "        }\n",
              "      </script>\n",
              "    </div>\n",
              "  </div>\n",
              "  "
            ]
          },
          "metadata": {},
          "execution_count": 49
        }
      ],
      "source": [
        "df_tesla.head()"
      ]
    },
    {
      "cell_type": "code",
      "execution_count": 50,
      "id": "3a52fae8",
      "metadata": {
        "colab": {
          "base_uri": "https://localhost:8080/",
          "height": 269
        },
        "id": "3a52fae8",
        "outputId": "7da08318-29e6-4645-b66a-ad5af1c6bf80"
      },
      "outputs": [
        {
          "output_type": "execute_result",
          "data": {
            "text/plain": [
              "                  High         Low        Open       Close      Volume  \\\n",
              "Date                                                                     \n",
              "2017-12-31   60.891998   58.526001   59.900002   59.852001  15247500.0   \n",
              "2018-12-31   52.066002   48.917999   50.556000   50.112000  15403500.0   \n",
              "2019-12-31   37.335999   35.397999   36.220001   35.793999  12328000.0   \n",
              "2020-12-31   80.972000   70.101997   74.940002   72.244003  17357700.0   \n",
              "2021-12-31  566.210022  539.489990  552.549988  563.000000   9800600.0   \n",
              "2022-12-31  653.919983  620.570007  623.849976  628.159973  16330900.0   \n",
              "\n",
              "             Adj Close  \n",
              "Date                    \n",
              "2017-12-31   59.852001  \n",
              "2018-12-31   50.112000  \n",
              "2019-12-31   35.793999  \n",
              "2020-12-31   72.244003  \n",
              "2021-12-31  563.000000  \n",
              "2022-12-31  628.159973  "
            ],
            "text/html": [
              "\n",
              "  <div id=\"df-4ffc8b23-216a-46ed-b431-9deb71954f3a\">\n",
              "    <div class=\"colab-df-container\">\n",
              "      <div>\n",
              "<style scoped>\n",
              "    .dataframe tbody tr th:only-of-type {\n",
              "        vertical-align: middle;\n",
              "    }\n",
              "\n",
              "    .dataframe tbody tr th {\n",
              "        vertical-align: top;\n",
              "    }\n",
              "\n",
              "    .dataframe thead th {\n",
              "        text-align: right;\n",
              "    }\n",
              "</style>\n",
              "<table border=\"1\" class=\"dataframe\">\n",
              "  <thead>\n",
              "    <tr style=\"text-align: right;\">\n",
              "      <th></th>\n",
              "      <th>High</th>\n",
              "      <th>Low</th>\n",
              "      <th>Open</th>\n",
              "      <th>Close</th>\n",
              "      <th>Volume</th>\n",
              "      <th>Adj Close</th>\n",
              "    </tr>\n",
              "    <tr>\n",
              "      <th>Date</th>\n",
              "      <th></th>\n",
              "      <th></th>\n",
              "      <th></th>\n",
              "      <th></th>\n",
              "      <th></th>\n",
              "      <th></th>\n",
              "    </tr>\n",
              "  </thead>\n",
              "  <tbody>\n",
              "    <tr>\n",
              "      <th>2017-12-31</th>\n",
              "      <td>60.891998</td>\n",
              "      <td>58.526001</td>\n",
              "      <td>59.900002</td>\n",
              "      <td>59.852001</td>\n",
              "      <td>15247500.0</td>\n",
              "      <td>59.852001</td>\n",
              "    </tr>\n",
              "    <tr>\n",
              "      <th>2018-12-31</th>\n",
              "      <td>52.066002</td>\n",
              "      <td>48.917999</td>\n",
              "      <td>50.556000</td>\n",
              "      <td>50.112000</td>\n",
              "      <td>15403500.0</td>\n",
              "      <td>50.112000</td>\n",
              "    </tr>\n",
              "    <tr>\n",
              "      <th>2019-12-31</th>\n",
              "      <td>37.335999</td>\n",
              "      <td>35.397999</td>\n",
              "      <td>36.220001</td>\n",
              "      <td>35.793999</td>\n",
              "      <td>12328000.0</td>\n",
              "      <td>35.793999</td>\n",
              "    </tr>\n",
              "    <tr>\n",
              "      <th>2020-12-31</th>\n",
              "      <td>80.972000</td>\n",
              "      <td>70.101997</td>\n",
              "      <td>74.940002</td>\n",
              "      <td>72.244003</td>\n",
              "      <td>17357700.0</td>\n",
              "      <td>72.244003</td>\n",
              "    </tr>\n",
              "    <tr>\n",
              "      <th>2021-12-31</th>\n",
              "      <td>566.210022</td>\n",
              "      <td>539.489990</td>\n",
              "      <td>552.549988</td>\n",
              "      <td>563.000000</td>\n",
              "      <td>9800600.0</td>\n",
              "      <td>563.000000</td>\n",
              "    </tr>\n",
              "    <tr>\n",
              "      <th>2022-12-31</th>\n",
              "      <td>653.919983</td>\n",
              "      <td>620.570007</td>\n",
              "      <td>623.849976</td>\n",
              "      <td>628.159973</td>\n",
              "      <td>16330900.0</td>\n",
              "      <td>628.159973</td>\n",
              "    </tr>\n",
              "  </tbody>\n",
              "</table>\n",
              "</div>\n",
              "      <button class=\"colab-df-convert\" onclick=\"convertToInteractive('df-4ffc8b23-216a-46ed-b431-9deb71954f3a')\"\n",
              "              title=\"Convert this dataframe to an interactive table.\"\n",
              "              style=\"display:none;\">\n",
              "        \n",
              "  <svg xmlns=\"http://www.w3.org/2000/svg\" height=\"24px\"viewBox=\"0 0 24 24\"\n",
              "       width=\"24px\">\n",
              "    <path d=\"M0 0h24v24H0V0z\" fill=\"none\"/>\n",
              "    <path d=\"M18.56 5.44l.94 2.06.94-2.06 2.06-.94-2.06-.94-.94-2.06-.94 2.06-2.06.94zm-11 1L8.5 8.5l.94-2.06 2.06-.94-2.06-.94L8.5 2.5l-.94 2.06-2.06.94zm10 10l.94 2.06.94-2.06 2.06-.94-2.06-.94-.94-2.06-.94 2.06-2.06.94z\"/><path d=\"M17.41 7.96l-1.37-1.37c-.4-.4-.92-.59-1.43-.59-.52 0-1.04.2-1.43.59L10.3 9.45l-7.72 7.72c-.78.78-.78 2.05 0 2.83L4 21.41c.39.39.9.59 1.41.59.51 0 1.02-.2 1.41-.59l7.78-7.78 2.81-2.81c.8-.78.8-2.07 0-2.86zM5.41 20L4 18.59l7.72-7.72 1.47 1.35L5.41 20z\"/>\n",
              "  </svg>\n",
              "      </button>\n",
              "      \n",
              "  <style>\n",
              "    .colab-df-container {\n",
              "      display:flex;\n",
              "      flex-wrap:wrap;\n",
              "      gap: 12px;\n",
              "    }\n",
              "\n",
              "    .colab-df-convert {\n",
              "      background-color: #E8F0FE;\n",
              "      border: none;\n",
              "      border-radius: 50%;\n",
              "      cursor: pointer;\n",
              "      display: none;\n",
              "      fill: #1967D2;\n",
              "      height: 32px;\n",
              "      padding: 0 0 0 0;\n",
              "      width: 32px;\n",
              "    }\n",
              "\n",
              "    .colab-df-convert:hover {\n",
              "      background-color: #E2EBFA;\n",
              "      box-shadow: 0px 1px 2px rgba(60, 64, 67, 0.3), 0px 1px 3px 1px rgba(60, 64, 67, 0.15);\n",
              "      fill: #174EA6;\n",
              "    }\n",
              "\n",
              "    [theme=dark] .colab-df-convert {\n",
              "      background-color: #3B4455;\n",
              "      fill: #D2E3FC;\n",
              "    }\n",
              "\n",
              "    [theme=dark] .colab-df-convert:hover {\n",
              "      background-color: #434B5C;\n",
              "      box-shadow: 0px 1px 3px 1px rgba(0, 0, 0, 0.15);\n",
              "      filter: drop-shadow(0px 1px 2px rgba(0, 0, 0, 0.3));\n",
              "      fill: #FFFFFF;\n",
              "    }\n",
              "  </style>\n",
              "\n",
              "      <script>\n",
              "        const buttonEl =\n",
              "          document.querySelector('#df-4ffc8b23-216a-46ed-b431-9deb71954f3a button.colab-df-convert');\n",
              "        buttonEl.style.display =\n",
              "          google.colab.kernel.accessAllowed ? 'block' : 'none';\n",
              "\n",
              "        async function convertToInteractive(key) {\n",
              "          const element = document.querySelector('#df-4ffc8b23-216a-46ed-b431-9deb71954f3a');\n",
              "          const dataTable =\n",
              "            await google.colab.kernel.invokeFunction('convertToInteractive',\n",
              "                                                     [key], {});\n",
              "          if (!dataTable) return;\n",
              "\n",
              "          const docLinkHtml = 'Like what you see? Visit the ' +\n",
              "            '<a target=\"_blank\" href=https://colab.research.google.com/notebooks/data_table.ipynb>data table notebook</a>'\n",
              "            + ' to learn more about interactive tables.';\n",
              "          element.innerHTML = '';\n",
              "          dataTable['output_type'] = 'display_data';\n",
              "          await google.colab.output.renderOutput(dataTable, element);\n",
              "          const docLink = document.createElement('div');\n",
              "          docLink.innerHTML = docLinkHtml;\n",
              "          element.appendChild(docLink);\n",
              "        }\n",
              "      </script>\n",
              "    </div>\n",
              "  </div>\n",
              "  "
            ]
          },
          "metadata": {},
          "execution_count": 50
        }
      ],
      "source": [
        "df_tesla.resample(rule='A').min()"
      ]
    },
    {
      "cell_type": "code",
      "execution_count": 51,
      "id": "f6171bda",
      "metadata": {
        "colab": {
          "base_uri": "https://localhost:8080/",
          "height": 269
        },
        "id": "f6171bda",
        "outputId": "59849848-dc93-4383-8bfe-a19714122f42"
      },
      "outputs": [
        {
          "output_type": "execute_result",
          "data": {
            "text/plain": [
              "                   High          Low         Open        Close       Volume  \\\n",
              "Date                                                                          \n",
              "2017-12-31    77.921997    75.536003    76.050003    77.000000   98957000.0   \n",
              "2018-12-31    77.491997    73.424004    75.000000    75.914001  168248500.0   \n",
              "2019-12-31    87.061996    85.269997    87.000000    86.188004  150030500.0   \n",
              "2020-12-31   718.719971   691.119995   699.989990   705.669983  304694000.0   \n",
              "2021-12-31  1243.489990  1217.000000  1234.410034  1229.910034   89396500.0   \n",
              "2022-12-31  1208.000000  1136.040039  1189.550049  1199.780029   50521900.0   \n",
              "\n",
              "              Adj Close  \n",
              "Date                     \n",
              "2017-12-31    77.000000  \n",
              "2018-12-31    75.914001  \n",
              "2019-12-31    86.188004  \n",
              "2020-12-31   705.669983  \n",
              "2021-12-31  1229.910034  \n",
              "2022-12-31  1199.780029  "
            ],
            "text/html": [
              "\n",
              "  <div id=\"df-865c0d76-b0b2-4da1-b1e4-8e51464d54ed\">\n",
              "    <div class=\"colab-df-container\">\n",
              "      <div>\n",
              "<style scoped>\n",
              "    .dataframe tbody tr th:only-of-type {\n",
              "        vertical-align: middle;\n",
              "    }\n",
              "\n",
              "    .dataframe tbody tr th {\n",
              "        vertical-align: top;\n",
              "    }\n",
              "\n",
              "    .dataframe thead th {\n",
              "        text-align: right;\n",
              "    }\n",
              "</style>\n",
              "<table border=\"1\" class=\"dataframe\">\n",
              "  <thead>\n",
              "    <tr style=\"text-align: right;\">\n",
              "      <th></th>\n",
              "      <th>High</th>\n",
              "      <th>Low</th>\n",
              "      <th>Open</th>\n",
              "      <th>Close</th>\n",
              "      <th>Volume</th>\n",
              "      <th>Adj Close</th>\n",
              "    </tr>\n",
              "    <tr>\n",
              "      <th>Date</th>\n",
              "      <th></th>\n",
              "      <th></th>\n",
              "      <th></th>\n",
              "      <th></th>\n",
              "      <th></th>\n",
              "      <th></th>\n",
              "    </tr>\n",
              "  </thead>\n",
              "  <tbody>\n",
              "    <tr>\n",
              "      <th>2017-12-31</th>\n",
              "      <td>77.921997</td>\n",
              "      <td>75.536003</td>\n",
              "      <td>76.050003</td>\n",
              "      <td>77.000000</td>\n",
              "      <td>98957000.0</td>\n",
              "      <td>77.000000</td>\n",
              "    </tr>\n",
              "    <tr>\n",
              "      <th>2018-12-31</th>\n",
              "      <td>77.491997</td>\n",
              "      <td>73.424004</td>\n",
              "      <td>75.000000</td>\n",
              "      <td>75.914001</td>\n",
              "      <td>168248500.0</td>\n",
              "      <td>75.914001</td>\n",
              "    </tr>\n",
              "    <tr>\n",
              "      <th>2019-12-31</th>\n",
              "      <td>87.061996</td>\n",
              "      <td>85.269997</td>\n",
              "      <td>87.000000</td>\n",
              "      <td>86.188004</td>\n",
              "      <td>150030500.0</td>\n",
              "      <td>86.188004</td>\n",
              "    </tr>\n",
              "    <tr>\n",
              "      <th>2020-12-31</th>\n",
              "      <td>718.719971</td>\n",
              "      <td>691.119995</td>\n",
              "      <td>699.989990</td>\n",
              "      <td>705.669983</td>\n",
              "      <td>304694000.0</td>\n",
              "      <td>705.669983</td>\n",
              "    </tr>\n",
              "    <tr>\n",
              "      <th>2021-12-31</th>\n",
              "      <td>1243.489990</td>\n",
              "      <td>1217.000000</td>\n",
              "      <td>1234.410034</td>\n",
              "      <td>1229.910034</td>\n",
              "      <td>89396500.0</td>\n",
              "      <td>1229.910034</td>\n",
              "    </tr>\n",
              "    <tr>\n",
              "      <th>2022-12-31</th>\n",
              "      <td>1208.000000</td>\n",
              "      <td>1136.040039</td>\n",
              "      <td>1189.550049</td>\n",
              "      <td>1199.780029</td>\n",
              "      <td>50521900.0</td>\n",
              "      <td>1199.780029</td>\n",
              "    </tr>\n",
              "  </tbody>\n",
              "</table>\n",
              "</div>\n",
              "      <button class=\"colab-df-convert\" onclick=\"convertToInteractive('df-865c0d76-b0b2-4da1-b1e4-8e51464d54ed')\"\n",
              "              title=\"Convert this dataframe to an interactive table.\"\n",
              "              style=\"display:none;\">\n",
              "        \n",
              "  <svg xmlns=\"http://www.w3.org/2000/svg\" height=\"24px\"viewBox=\"0 0 24 24\"\n",
              "       width=\"24px\">\n",
              "    <path d=\"M0 0h24v24H0V0z\" fill=\"none\"/>\n",
              "    <path d=\"M18.56 5.44l.94 2.06.94-2.06 2.06-.94-2.06-.94-.94-2.06-.94 2.06-2.06.94zm-11 1L8.5 8.5l.94-2.06 2.06-.94-2.06-.94L8.5 2.5l-.94 2.06-2.06.94zm10 10l.94 2.06.94-2.06 2.06-.94-2.06-.94-.94-2.06-.94 2.06-2.06.94z\"/><path d=\"M17.41 7.96l-1.37-1.37c-.4-.4-.92-.59-1.43-.59-.52 0-1.04.2-1.43.59L10.3 9.45l-7.72 7.72c-.78.78-.78 2.05 0 2.83L4 21.41c.39.39.9.59 1.41.59.51 0 1.02-.2 1.41-.59l7.78-7.78 2.81-2.81c.8-.78.8-2.07 0-2.86zM5.41 20L4 18.59l7.72-7.72 1.47 1.35L5.41 20z\"/>\n",
              "  </svg>\n",
              "      </button>\n",
              "      \n",
              "  <style>\n",
              "    .colab-df-container {\n",
              "      display:flex;\n",
              "      flex-wrap:wrap;\n",
              "      gap: 12px;\n",
              "    }\n",
              "\n",
              "    .colab-df-convert {\n",
              "      background-color: #E8F0FE;\n",
              "      border: none;\n",
              "      border-radius: 50%;\n",
              "      cursor: pointer;\n",
              "      display: none;\n",
              "      fill: #1967D2;\n",
              "      height: 32px;\n",
              "      padding: 0 0 0 0;\n",
              "      width: 32px;\n",
              "    }\n",
              "\n",
              "    .colab-df-convert:hover {\n",
              "      background-color: #E2EBFA;\n",
              "      box-shadow: 0px 1px 2px rgba(60, 64, 67, 0.3), 0px 1px 3px 1px rgba(60, 64, 67, 0.15);\n",
              "      fill: #174EA6;\n",
              "    }\n",
              "\n",
              "    [theme=dark] .colab-df-convert {\n",
              "      background-color: #3B4455;\n",
              "      fill: #D2E3FC;\n",
              "    }\n",
              "\n",
              "    [theme=dark] .colab-df-convert:hover {\n",
              "      background-color: #434B5C;\n",
              "      box-shadow: 0px 1px 3px 1px rgba(0, 0, 0, 0.15);\n",
              "      filter: drop-shadow(0px 1px 2px rgba(0, 0, 0, 0.3));\n",
              "      fill: #FFFFFF;\n",
              "    }\n",
              "  </style>\n",
              "\n",
              "      <script>\n",
              "        const buttonEl =\n",
              "          document.querySelector('#df-865c0d76-b0b2-4da1-b1e4-8e51464d54ed button.colab-df-convert');\n",
              "        buttonEl.style.display =\n",
              "          google.colab.kernel.accessAllowed ? 'block' : 'none';\n",
              "\n",
              "        async function convertToInteractive(key) {\n",
              "          const element = document.querySelector('#df-865c0d76-b0b2-4da1-b1e4-8e51464d54ed');\n",
              "          const dataTable =\n",
              "            await google.colab.kernel.invokeFunction('convertToInteractive',\n",
              "                                                     [key], {});\n",
              "          if (!dataTable) return;\n",
              "\n",
              "          const docLinkHtml = 'Like what you see? Visit the ' +\n",
              "            '<a target=\"_blank\" href=https://colab.research.google.com/notebooks/data_table.ipynb>data table notebook</a>'\n",
              "            + ' to learn more about interactive tables.';\n",
              "          element.innerHTML = '';\n",
              "          dataTable['output_type'] = 'display_data';\n",
              "          await google.colab.output.renderOutput(dataTable, element);\n",
              "          const docLink = document.createElement('div');\n",
              "          docLink.innerHTML = docLinkHtml;\n",
              "          element.appendChild(docLink);\n",
              "        }\n",
              "      </script>\n",
              "    </div>\n",
              "  </div>\n",
              "  "
            ]
          },
          "metadata": {},
          "execution_count": 51
        }
      ],
      "source": [
        "df_tesla.resample(rule='A').max()"
      ]
    },
    {
      "cell_type": "code",
      "execution_count": 52,
      "id": "6d8f06e8",
      "metadata": {
        "colab": {
          "base_uri": "https://localhost:8080/",
          "height": 296
        },
        "id": "6d8f06e8",
        "outputId": "7c71ce94-96b7-4514-8806-fa442a244be3"
      },
      "outputs": [
        {
          "output_type": "execute_result",
          "data": {
            "text/plain": [
              "<matplotlib.axes._subplots.AxesSubplot at 0x7f33adb33650>"
            ]
          },
          "metadata": {},
          "execution_count": 52
        },
        {
          "output_type": "display_data",
          "data": {
            "text/plain": [
              "<Figure size 432x288 with 1 Axes>"
            ],
            "image/png": "[encoded data removed]"
          },
          "metadata": {
            "needs_background": "light"
          }
        }
      ],
      "source": [
        "##year end frequency\n",
        "df_tesla.resample(rule='A').max()['Open'].plot()"
      ]
    },
    {
      "cell_type": "code",
      "execution_count": 53,
      "id": "52eceae2",
      "metadata": {
        "colab": {
          "base_uri": "https://localhost:8080/",
          "height": 296
        },
        "id": "52eceae2",
        "outputId": "c4712691-d1e3-452d-b9f4-3e9ceca9f373"
      },
      "outputs": [
        {
          "output_type": "execute_result",
          "data": {
            "text/plain": [
              "<matplotlib.axes._subplots.AxesSubplot at 0x7f33ad7e0e10>"
            ]
          },
          "metadata": {},
          "execution_count": 53
        },
        {
          "output_type": "display_data",
          "data": {
            "text/plain": [
              "<Figure size 432x288 with 1 Axes>"
            ],
            "image/png": "[encoded data removed]"
          },
          "metadata": {
            "needs_background": "light"
          }
        }
      ],
      "source": [
        "##quaterly start frequency\n",
        "##https://towardsdatascience.com/resample-function-of-pandas-79b17ec82a78\n",
        "df_tesla.resample(rule='QS').max()['High'].plot()"
      ]
    },
    {
      "cell_type": "code",
      "execution_count": 54,
      "id": "384d6d83",
      "metadata": {
        "colab": {
          "base_uri": "https://localhost:8080/",
          "height": 269
        },
        "id": "384d6d83",
        "outputId": "a0fda326-abe6-4d28-f1ea-214612f456e3"
      },
      "outputs": [
        {
          "output_type": "execute_result",
          "data": {
            "text/plain": [
              "                   High          Low         Open        Close       Volume  \\\n",
              "Date                                                                          \n",
              "2017-12-29    77.921997    75.536003    76.050003    77.000000   98957000.0   \n",
              "2018-12-31    77.491997    73.424004    75.000000    75.914001  168248500.0   \n",
              "2019-12-31    87.061996    85.269997    87.000000    86.188004  150030500.0   \n",
              "2020-12-31   718.719971   691.119995   699.989990   705.669983  304694000.0   \n",
              "2021-12-31  1243.489990  1217.000000  1234.410034  1229.910034   89396500.0   \n",
              "2022-12-30  1208.000000  1136.040039  1189.550049  1199.780029   50521900.0   \n",
              "\n",
              "              Adj Close  \n",
              "Date                     \n",
              "2017-12-29    77.000000  \n",
              "2018-12-31    75.914001  \n",
              "2019-12-31    86.188004  \n",
              "2020-12-31   705.669983  \n",
              "2021-12-31  1229.910034  \n",
              "2022-12-30  1199.780029  "
            ],
            "text/html": [
              "\n",
              "  <div id=\"df-350b6ba6-18d2-4f8b-9afb-e312899c569d\">\n",
              "    <div class=\"colab-df-container\">\n",
              "      <div>\n",
              "<style scoped>\n",
              "    .dataframe tbody tr th:only-of-type {\n",
              "        vertical-align: middle;\n",
              "    }\n",
              "\n",
              "    .dataframe tbody tr th {\n",
              "        vertical-align: top;\n",
              "    }\n",
              "\n",
              "    .dataframe thead th {\n",
              "        text-align: right;\n",
              "    }\n",
              "</style>\n",
              "<table border=\"1\" class=\"dataframe\">\n",
              "  <thead>\n",
              "    <tr style=\"text-align: right;\">\n",
              "      <th></th>\n",
              "      <th>High</th>\n",
              "      <th>Low</th>\n",
              "      <th>Open</th>\n",
              "      <th>Close</th>\n",
              "      <th>Volume</th>\n",
              "      <th>Adj Close</th>\n",
              "    </tr>\n",
              "    <tr>\n",
              "      <th>Date</th>\n",
              "      <th></th>\n",
              "      <th></th>\n",
              "      <th></th>\n",
              "      <th></th>\n",
              "      <th></th>\n",
              "      <th></th>\n",
              "    </tr>\n",
              "  </thead>\n",
              "  <tbody>\n",
              "    <tr>\n",
              "      <th>2017-12-29</th>\n",
              "      <td>77.921997</td>\n",
              "      <td>75.536003</td>\n",
              "      <td>76.050003</td>\n",
              "      <td>77.000000</td>\n",
              "      <td>98957000.0</td>\n",
              "      <td>77.000000</td>\n",
              "    </tr>\n",
              "    <tr>\n",
              "      <th>2018-12-31</th>\n",
              "      <td>77.491997</td>\n",
              "      <td>73.424004</td>\n",
              "      <td>75.000000</td>\n",
              "      <td>75.914001</td>\n",
              "      <td>168248500.0</td>\n",
              "      <td>75.914001</td>\n",
              "    </tr>\n",
              "    <tr>\n",
              "      <th>2019-12-31</th>\n",
              "      <td>87.061996</td>\n",
              "      <td>85.269997</td>\n",
              "      <td>87.000000</td>\n",
              "      <td>86.188004</td>\n",
              "      <td>150030500.0</td>\n",
              "      <td>86.188004</td>\n",
              "    </tr>\n",
              "    <tr>\n",
              "      <th>2020-12-31</th>\n",
              "      <td>718.719971</td>\n",
              "      <td>691.119995</td>\n",
              "      <td>699.989990</td>\n",
              "      <td>705.669983</td>\n",
              "      <td>304694000.0</td>\n",
              "      <td>705.669983</td>\n",
              "    </tr>\n",
              "    <tr>\n",
              "      <th>2021-12-31</th>\n",
              "      <td>1243.489990</td>\n",
              "      <td>1217.000000</td>\n",
              "      <td>1234.410034</td>\n",
              "      <td>1229.910034</td>\n",
              "      <td>89396500.0</td>\n",
              "      <td>1229.910034</td>\n",
              "    </tr>\n",
              "    <tr>\n",
              "      <th>2022-12-30</th>\n",
              "      <td>1208.000000</td>\n",
              "      <td>1136.040039</td>\n",
              "      <td>1189.550049</td>\n",
              "      <td>1199.780029</td>\n",
              "      <td>50521900.0</td>\n",
              "      <td>1199.780029</td>\n",
              "    </tr>\n",
              "  </tbody>\n",
              "</table>\n",
              "</div>\n",
              "      <button class=\"colab-df-convert\" onclick=\"convertToInteractive('df-350b6ba6-18d2-4f8b-9afb-e312899c569d')\"\n",
              "              title=\"Convert this dataframe to an interactive table.\"\n",
              "              style=\"display:none;\">\n",
              "        \n",
              "  <svg xmlns=\"http://www.w3.org/2000/svg\" height=\"24px\"viewBox=\"0 0 24 24\"\n",
              "       width=\"24px\">\n",
              "    <path d=\"M0 0h24v24H0V0z\" fill=\"none\"/>\n",
              "    <path d=\"M18.56 5.44l.94 2.06.94-2.06 2.06-.94-2.06-.94-.94-2.06-.94 2.06-2.06.94zm-11 1L8.5 8.5l.94-2.06 2.06-.94-2.06-.94L8.5 2.5l-.94 2.06-2.06.94zm10 10l.94 2.06.94-2.06 2.06-.94-2.06-.94-.94-2.06-.94 2.06-2.06.94z\"/><path d=\"M17.41 7.96l-1.37-1.37c-.4-.4-.92-.59-1.43-.59-.52 0-1.04.2-1.43.59L10.3 9.45l-7.72 7.72c-.78.78-.78 2.05 0 2.83L4 21.41c.39.39.9.59 1.41.59.51 0 1.02-.2 1.41-.59l7.78-7.78 2.81-2.81c.8-.78.8-2.07 0-2.86zM5.41 20L4 18.59l7.72-7.72 1.47 1.35L5.41 20z\"/>\n",
              "  </svg>\n",
              "      </button>\n",
              "      \n",
              "  <style>\n",
              "    .colab-df-container {\n",
              "      display:flex;\n",
              "      flex-wrap:wrap;\n",
              "      gap: 12px;\n",
              "    }\n",
              "\n",
              "    .colab-df-convert {\n",
              "      background-color: #E8F0FE;\n",
              "      border: none;\n",
              "      border-radius: 50%;\n",
              "      cursor: pointer;\n",
              "      display: none;\n",
              "      fill: #1967D2;\n",
              "      height: 32px;\n",
              "      padding: 0 0 0 0;\n",
              "      width: 32px;\n",
              "    }\n",
              "\n",
              "    .colab-df-convert:hover {\n",
              "      background-color: #E2EBFA;\n",
              "      box-shadow: 0px 1px 2px rgba(60, 64, 67, 0.3), 0px 1px 3px 1px rgba(60, 64, 67, 0.15);\n",
              "      fill: #174EA6;\n",
              "    }\n",
              "\n",
              "    [theme=dark] .colab-df-convert {\n",
              "      background-color: #3B4455;\n",
              "      fill: #D2E3FC;\n",
              "    }\n",
              "\n",
              "    [theme=dark] .colab-df-convert:hover {\n",
              "      background-color: #434B5C;\n",
              "      box-shadow: 0px 1px 3px 1px rgba(0, 0, 0, 0.15);\n",
              "      filter: drop-shadow(0px 1px 2px rgba(0, 0, 0, 0.3));\n",
              "      fill: #FFFFFF;\n",
              "    }\n",
              "  </style>\n",
              "\n",
              "      <script>\n",
              "        const buttonEl =\n",
              "          document.querySelector('#df-350b6ba6-18d2-4f8b-9afb-e312899c569d button.colab-df-convert');\n",
              "        buttonEl.style.display =\n",
              "          google.colab.kernel.accessAllowed ? 'block' : 'none';\n",
              "\n",
              "        async function convertToInteractive(key) {\n",
              "          const element = document.querySelector('#df-350b6ba6-18d2-4f8b-9afb-e312899c569d');\n",
              "          const dataTable =\n",
              "            await google.colab.kernel.invokeFunction('convertToInteractive',\n",
              "                                                     [key], {});\n",
              "          if (!dataTable) return;\n",
              "\n",
              "          const docLinkHtml = 'Like what you see? Visit the ' +\n",
              "            '<a target=\"_blank\" href=https://colab.research.google.com/notebooks/data_table.ipynb>data table notebook</a>'\n",
              "            + ' to learn more about interactive tables.';\n",
              "          element.innerHTML = '';\n",
              "          dataTable['output_type'] = 'display_data';\n",
              "          await google.colab.output.renderOutput(dataTable, element);\n",
              "          const docLink = document.createElement('div');\n",
              "          docLink.innerHTML = docLinkHtml;\n",
              "          element.appendChild(docLink);\n",
              "        }\n",
              "      </script>\n",
              "    </div>\n",
              "  </div>\n",
              "  "
            ]
          },
          "metadata": {},
          "execution_count": 54
        }
      ],
      "source": [
        "##Business End Frequency\n",
        "##https://towardsdatascience.com/resample-function-of-pandas-79b17ec82a78\n",
        "df_tesla.resample(rule='BA').max()"
      ]
    },
    {
      "cell_type": "code",
      "execution_count": 55,
      "id": "0820f1b7",
      "metadata": {
        "colab": {
          "base_uri": "https://localhost:8080/",
          "height": 739
        },
        "id": "0820f1b7",
        "outputId": "30c7f4b2-9258-401e-e2bb-049814ac0b34"
      },
      "outputs": [
        {
          "output_type": "execute_result",
          "data": {
            "text/plain": [
              "                   High          Low         Open        Close       Volume  \\\n",
              "Date                                                                          \n",
              "2017-07-03    77.921997    75.536003    76.050003    77.000000   67675000.0   \n",
              "2017-10-02    72.599998    70.825996    71.396004    71.930000   98957000.0   \n",
              "2018-01-01    72.099998    70.472000    72.000000    71.484001  105007000.0   \n",
              "2018-04-02    74.746002    70.900002    73.031998    74.166000  111737000.0   \n",
              "2018-07-02    77.491997    73.424004    73.818001    75.914001  168248500.0   \n",
              "2018-10-01    75.898003    73.349998    75.000000    75.358002  137127500.0   \n",
              "2019-01-01    70.400002    68.830002    69.241997    69.461998  120754000.0   \n",
              "2019-04-01    59.234001    57.433998    57.660000    58.362000  132735500.0   \n",
              "2019-07-01    53.214001    51.632000    51.834000    52.976002  112091500.0   \n",
              "2019-10-01    87.061996    85.269997    87.000000    86.188004  150030500.0   \n",
              "2020-01-01   193.798004   180.203995   184.699997   183.483994  304694000.0   \n",
              "2020-04-01   217.537994   200.746002   202.556000   215.962006  162659000.0   \n",
              "2020-07-01   502.489990   470.510010   502.140015   498.320007  194927000.0   \n",
              "2020-10-01   718.719971   691.119995   699.989990   705.669983  222126200.0   \n",
              "2021-01-01   900.400024   871.599976   891.380005   883.090027   89396500.0   \n",
              "2021-04-01   780.789978   732.609985   770.700012   762.320007   49017400.0   \n",
              "2021-07-01   799.000000   775.000000   787.200012   791.359985   33615800.0   \n",
              "2021-10-01  1243.489990  1217.000000  1234.410034  1229.910034   62852100.0   \n",
              "2022-01-03  1208.000000  1136.040039  1189.550049  1199.780029   50521900.0   \n",
              "2022-04-01  1152.869995  1087.300049  1136.300049  1145.449951   48324400.0   \n",
              "2022-07-01   764.940002   723.479980   756.309998   752.289978   33343700.0   \n",
              "\n",
              "              Adj Close  \n",
              "Date                     \n",
              "2017-07-03    77.000000  \n",
              "2017-10-02    71.930000  \n",
              "2018-01-01    71.484001  \n",
              "2018-04-02    74.166000  \n",
              "2018-07-02    75.914001  \n",
              "2018-10-01    75.358002  \n",
              "2019-01-01    69.461998  \n",
              "2019-04-01    58.362000  \n",
              "2019-07-01    52.976002  \n",
              "2019-10-01    86.188004  \n",
              "2020-01-01   183.483994  \n",
              "2020-04-01   215.962006  \n",
              "2020-07-01   498.320007  \n",
              "2020-10-01   705.669983  \n",
              "2021-01-01   883.090027  \n",
              "2021-04-01   762.320007  \n",
              "2021-07-01   791.359985  \n",
              "2021-10-01  1229.910034  \n",
              "2022-01-03  1199.780029  \n",
              "2022-04-01  1145.449951  \n",
              "2022-07-01   752.289978  "
            ],
            "text/html": [
              "\n",
              "  <div id=\"df-0adf9f54-86bc-4f47-be63-8d255dffbb38\">\n",
              "    <div class=\"colab-df-container\">\n",
              "      <div>\n",
              "<style scoped>\n",
              "    .dataframe tbody tr th:only-of-type {\n",
              "        vertical-align: middle;\n",
              "    }\n",
              "\n",
              "    .dataframe tbody tr th {\n",
              "        vertical-align: top;\n",
              "    }\n",
              "\n",
              "    .dataframe thead th {\n",
              "        text-align: right;\n",
              "    }\n",
              "</style>\n",
              "<table border=\"1\" class=\"dataframe\">\n",
              "  <thead>\n",
              "    <tr style=\"text-align: right;\">\n",
              "      <th></th>\n",
              "      <th>High</th>\n",
              "      <th>Low</th>\n",
              "      <th>Open</th>\n",
              "      <th>Close</th>\n",
              "      <th>Volume</th>\n",
              "      <th>Adj Close</th>\n",
              "    </tr>\n",
              "    <tr>\n",
              "      <th>Date</th>\n",
              "      <th></th>\n",
              "      <th></th>\n",
              "      <th></th>\n",
              "      <th></th>\n",
              "      <th></th>\n",
              "      <th></th>\n",
              "    </tr>\n",
              "  </thead>\n",
              "  <tbody>\n",
              "    <tr>\n",
              "      <th>2017-07-03</th>\n",
              "      <td>77.921997</td>\n",
              "      <td>75.536003</td>\n",
              "      <td>76.050003</td>\n",
              "      <td>77.000000</td>\n",
              "      <td>67675000.0</td>\n",
              "      <td>77.000000</td>\n",
              "    </tr>\n",
              "    <tr>\n",
              "      <th>2017-10-02</th>\n",
              "      <td>72.599998</td>\n",
              "      <td>70.825996</td>\n",
              "      <td>71.396004</td>\n",
              "      <td>71.930000</td>\n",
              "      <td>98957000.0</td>\n",
              "      <td>71.930000</td>\n",
              "    </tr>\n",
              "    <tr>\n",
              "      <th>2018-01-01</th>\n",
              "      <td>72.099998</td>\n",
              "      <td>70.472000</td>\n",
              "      <td>72.000000</td>\n",
              "      <td>71.484001</td>\n",
              "      <td>105007000.0</td>\n",
              "      <td>71.484001</td>\n",
              "    </tr>\n",
              "    <tr>\n",
              "      <th>2018-04-02</th>\n",
              "      <td>74.746002</td>\n",
              "      <td>70.900002</td>\n",
              "      <td>73.031998</td>\n",
              "      <td>74.166000</td>\n",
              "      <td>111737000.0</td>\n",
              "      <td>74.166000</td>\n",
              "    </tr>\n",
              "    <tr>\n",
              "      <th>2018-07-02</th>\n",
              "      <td>77.491997</td>\n",
              "      <td>73.424004</td>\n",
              "      <td>73.818001</td>\n",
              "      <td>75.914001</td>\n",
              "      <td>168248500.0</td>\n",
              "      <td>75.914001</td>\n",
              "    </tr>\n",
              "    <tr>\n",
              "      <th>2018-10-01</th>\n",
              "      <td>75.898003</td>\n",
              "      <td>73.349998</td>\n",
              "      <td>75.000000</td>\n",
              "      <td>75.358002</td>\n",
              "      <td>137127500.0</td>\n",
              "      <td>75.358002</td>\n",
              "    </tr>\n",
              "    <tr>\n",
              "      <th>2019-01-01</th>\n",
              "      <td>70.400002</td>\n",
              "      <td>68.830002</td>\n",
              "      <td>69.241997</td>\n",
              "      <td>69.461998</td>\n",
              "      <td>120754000.0</td>\n",
              "      <td>69.461998</td>\n",
              "    </tr>\n",
              "    <tr>\n",
              "      <th>2019-04-01</th>\n",
              "      <td>59.234001</td>\n",
              "      <td>57.433998</td>\n",
              "      <td>57.660000</td>\n",
              "      <td>58.362000</td>\n",
              "      <td>132735500.0</td>\n",
              "      <td>58.362000</td>\n",
              "    </tr>\n",
              "    <tr>\n",
              "      <th>2019-07-01</th>\n",
              "      <td>53.214001</td>\n",
              "      <td>51.632000</td>\n",
              "      <td>51.834000</td>\n",
              "      <td>52.976002</td>\n",
              "      <td>112091500.0</td>\n",
              "      <td>52.976002</td>\n",
              "    </tr>\n",
              "    <tr>\n",
              "      <th>2019-10-01</th>\n",
              "      <td>87.061996</td>\n",
              "      <td>85.269997</td>\n",
              "      <td>87.000000</td>\n",
              "      <td>86.188004</td>\n",
              "      <td>150030500.0</td>\n",
              "      <td>86.188004</td>\n",
              "    </tr>\n",
              "    <tr>\n",
              "      <th>2020-01-01</th>\n",
              "      <td>193.798004</td>\n",
              "      <td>180.203995</td>\n",
              "      <td>184.699997</td>\n",
              "      <td>183.483994</td>\n",
              "      <td>304694000.0</td>\n",
              "      <td>183.483994</td>\n",
              "    </tr>\n",
              "    <tr>\n",
              "      <th>2020-04-01</th>\n",
              "      <td>217.537994</td>\n",
              "      <td>200.746002</td>\n",
              "      <td>202.556000</td>\n",
              "      <td>215.962006</td>\n",
              "      <td>162659000.0</td>\n",
              "      <td>215.962006</td>\n",
              "    </tr>\n",
              "    <tr>\n",
              "      <th>2020-07-01</th>\n",
              "      <td>502.489990</td>\n",
              "      <td>470.510010</td>\n",
              "      <td>502.140015</td>\n",
              "      <td>498.320007</td>\n",
              "      <td>194927000.0</td>\n",
              "      <td>498.320007</td>\n",
              "    </tr>\n",
              "    <tr>\n",
              "      <th>2020-10-01</th>\n",
              "      <td>718.719971</td>\n",
              "      <td>691.119995</td>\n",
              "      <td>699.989990</td>\n",
              "      <td>705.669983</td>\n",
              "      <td>222126200.0</td>\n",
              "      <td>705.669983</td>\n",
              "    </tr>\n",
              "    <tr>\n",
              "      <th>2021-01-01</th>\n",
              "      <td>900.400024</td>\n",
              "      <td>871.599976</td>\n",
              "      <td>891.380005</td>\n",
              "      <td>883.090027</td>\n",
              "      <td>89396500.0</td>\n",
              "      <td>883.090027</td>\n",
              "    </tr>\n",
              "    <tr>\n",
              "      <th>2021-04-01</th>\n",
              "      <td>780.789978</td>\n",
              "      <td>732.609985</td>\n",
              "      <td>770.700012</td>\n",
              "      <td>762.320007</td>\n",
              "      <td>49017400.0</td>\n",
              "      <td>762.320007</td>\n",
              "    </tr>\n",
              "    <tr>\n",
              "      <th>2021-07-01</th>\n",
              "      <td>799.000000</td>\n",
              "      <td>775.000000</td>\n",
              "      <td>787.200012</td>\n",
              "      <td>791.359985</td>\n",
              "      <td>33615800.0</td>\n",
              "      <td>791.359985</td>\n",
              "    </tr>\n",
              "    <tr>\n",
              "      <th>2021-10-01</th>\n",
              "      <td>1243.489990</td>\n",
              "      <td>1217.000000</td>\n",
              "      <td>1234.410034</td>\n",
              "      <td>1229.910034</td>\n",
              "      <td>62852100.0</td>\n",
              "      <td>1229.910034</td>\n",
              "    </tr>\n",
              "    <tr>\n",
              "      <th>2022-01-03</th>\n",
              "      <td>1208.000000</td>\n",
              "      <td>1136.040039</td>\n",
              "      <td>1189.550049</td>\n",
              "      <td>1199.780029</td>\n",
              "      <td>50521900.0</td>\n",
              "      <td>1199.780029</td>\n",
              "    </tr>\n",
              "    <tr>\n",
              "      <th>2022-04-01</th>\n",
              "      <td>1152.869995</td>\n",
              "      <td>1087.300049</td>\n",
              "      <td>1136.300049</td>\n",
              "      <td>1145.449951</td>\n",
              "      <td>48324400.0</td>\n",
              "      <td>1145.449951</td>\n",
              "    </tr>\n",
              "    <tr>\n",
              "      <th>2022-07-01</th>\n",
              "      <td>764.940002</td>\n",
              "      <td>723.479980</td>\n",
              "      <td>756.309998</td>\n",
              "      <td>752.289978</td>\n",
              "      <td>33343700.0</td>\n",
              "      <td>752.289978</td>\n",
              "    </tr>\n",
              "  </tbody>\n",
              "</table>\n",
              "</div>\n",
              "      <button class=\"colab-df-convert\" onclick=\"convertToInteractive('df-0adf9f54-86bc-4f47-be63-8d255dffbb38')\"\n",
              "              title=\"Convert this dataframe to an interactive table.\"\n",
              "              style=\"display:none;\">\n",
              "        \n",
              "  <svg xmlns=\"http://www.w3.org/2000/svg\" height=\"24px\"viewBox=\"0 0 24 24\"\n",
              "       width=\"24px\">\n",
              "    <path d=\"M0 0h24v24H0V0z\" fill=\"none\"/>\n",
              "    <path d=\"M18.56 5.44l.94 2.06.94-2.06 2.06-.94-2.06-.94-.94-2.06-.94 2.06-2.06.94zm-11 1L8.5 8.5l.94-2.06 2.06-.94-2.06-.94L8.5 2.5l-.94 2.06-2.06.94zm10 10l.94 2.06.94-2.06 2.06-.94-2.06-.94-.94-2.06-.94 2.06-2.06.94z\"/><path d=\"M17.41 7.96l-1.37-1.37c-.4-.4-.92-.59-1.43-.59-.52 0-1.04.2-1.43.59L10.3 9.45l-7.72 7.72c-.78.78-.78 2.05 0 2.83L4 21.41c.39.39.9.59 1.41.59.51 0 1.02-.2 1.41-.59l7.78-7.78 2.81-2.81c.8-.78.8-2.07 0-2.86zM5.41 20L4 18.59l7.72-7.72 1.47 1.35L5.41 20z\"/>\n",
              "  </svg>\n",
              "      </button>\n",
              "      \n",
              "  <style>\n",
              "    .colab-df-container {\n",
              "      display:flex;\n",
              "      flex-wrap:wrap;\n",
              "      gap: 12px;\n",
              "    }\n",
              "\n",
              "    .colab-df-convert {\n",
              "      background-color: #E8F0FE;\n",
              "      border: none;\n",
              "      border-radius: 50%;\n",
              "      cursor: pointer;\n",
              "      display: none;\n",
              "      fill: #1967D2;\n",
              "      height: 32px;\n",
              "      padding: 0 0 0 0;\n",
              "      width: 32px;\n",
              "    }\n",
              "\n",
              "    .colab-df-convert:hover {\n",
              "      background-color: #E2EBFA;\n",
              "      box-shadow: 0px 1px 2px rgba(60, 64, 67, 0.3), 0px 1px 3px 1px rgba(60, 64, 67, 0.15);\n",
              "      fill: #174EA6;\n",
              "    }\n",
              "\n",
              "    [theme=dark] .colab-df-convert {\n",
              "      background-color: #3B4455;\n",
              "      fill: #D2E3FC;\n",
              "    }\n",
              "\n",
              "    [theme=dark] .colab-df-convert:hover {\n",
              "      background-color: #434B5C;\n",
              "      box-shadow: 0px 1px 3px 1px rgba(0, 0, 0, 0.15);\n",
              "      filter: drop-shadow(0px 1px 2px rgba(0, 0, 0, 0.3));\n",
              "      fill: #FFFFFF;\n",
              "    }\n",
              "  </style>\n",
              "\n",
              "      <script>\n",
              "        const buttonEl =\n",
              "          document.querySelector('#df-0adf9f54-86bc-4f47-be63-8d255dffbb38 button.colab-df-convert');\n",
              "        buttonEl.style.display =\n",
              "          google.colab.kernel.accessAllowed ? 'block' : 'none';\n",
              "\n",
              "        async function convertToInteractive(key) {\n",
              "          const element = document.querySelector('#df-0adf9f54-86bc-4f47-be63-8d255dffbb38');\n",
              "          const dataTable =\n",
              "            await google.colab.kernel.invokeFunction('convertToInteractive',\n",
              "                                                     [key], {});\n",
              "          if (!dataTable) return;\n",
              "\n",
              "          const docLinkHtml = 'Like what you see? Visit the ' +\n",
              "            '<a target=\"_blank\" href=https://colab.research.google.com/notebooks/data_table.ipynb>data table notebook</a>'\n",
              "            + ' to learn more about interactive tables.';\n",
              "          element.innerHTML = '';\n",
              "          dataTable['output_type'] = 'display_data';\n",
              "          await google.colab.output.renderOutput(dataTable, element);\n",
              "          const docLink = document.createElement('div');\n",
              "          docLink.innerHTML = docLinkHtml;\n",
              "          element.appendChild(docLink);\n",
              "        }\n",
              "      </script>\n",
              "    </div>\n",
              "  </div>\n",
              "  "
            ]
          },
          "metadata": {},
          "execution_count": 55
        }
      ],
      "source": [
        "df_tesla.resample(rule='BQS').max()"
      ]
    },
    {
      "cell_type": "code",
      "execution_count": 56,
      "id": "8b259548",
      "metadata": {
        "colab": {
          "base_uri": "https://localhost:8080/",
          "height": 391
        },
        "id": "8b259548",
        "outputId": "8cca1b4c-4072-4ec5-c58e-9bbeacde1aee"
      },
      "outputs": [
        {
          "output_type": "execute_result",
          "data": {
            "text/plain": [
              "<matplotlib.axes._subplots.AxesSubplot at 0x7f33aae7b950>"
            ]
          },
          "metadata": {},
          "execution_count": 56
        },
        {
          "output_type": "display_data",
          "data": {
            "text/plain": [
              "<Figure size 432x288 with 1 Axes>"
            ],
            "image/png": "[encoded data removed]"
          },
          "metadata": {
            "needs_background": "light"
          }
        }
      ],
      "source": [
        "##plotting\n",
        "df_tesla['Open'].resample(rule='A').mean().plot(kind='bar')"
      ]
    },
    {
      "cell_type": "code",
      "execution_count": 57,
      "id": "843faaac",
      "metadata": {
        "colab": {
          "base_uri": "https://localhost:8080/",
          "height": 500
        },
        "id": "843faaac",
        "outputId": "b5f86cc4-5f5f-45c5-dcfb-8e414cdb89d6"
      },
      "outputs": [
        {
          "output_type": "execute_result",
          "data": {
            "text/plain": [
              "<matplotlib.axes._subplots.AxesSubplot at 0x7f33aadd9490>"
            ]
          },
          "metadata": {},
          "execution_count": 57
        },
        {
          "output_type": "display_data",
          "data": {
            "text/plain": [
              "<Figure size 1080x432 with 1 Axes>"
            ],
            "image/png": "[encoded data removed]"
          },
          "metadata": {
            "needs_background": "light"
          }
        }
      ],
      "source": [
        "df_tesla['Open'].resample(rule='M').max().plot(kind='bar',figsize=(15,6))"
      ]
    },
    {
      "cell_type": "code",
      "execution_count": 58,
      "id": "ba11eeb4",
      "metadata": {
        "colab": {
          "base_uri": "https://localhost:8080/"
        },
        "id": "ba11eeb4",
        "outputId": "6581bebf-e8a6-400a-9223-f0af1e0f0338"
      },
      "outputs": [
        {
          "output_type": "execute_result",
          "data": {
            "text/plain": [
              "Date\n",
              "2017-07-19          NaN\n",
              "2017-07-20          NaN\n",
              "2017-07-21          NaN\n",
              "2017-07-24          NaN\n",
              "2017-07-25          NaN\n",
              "2017-07-26          NaN\n",
              "2017-07-27          NaN\n",
              "2017-07-28          NaN\n",
              "2017-07-31          NaN\n",
              "2017-08-01          NaN\n",
              "2017-08-02    69.500000\n",
              "2017-08-03    70.000000\n",
              "2017-08-04    71.454002\n",
              "2017-08-07    71.896004\n",
              "2017-08-08    73.716003\n",
              "2017-08-09    74.000000\n",
              "2017-08-10    74.000000\n",
              "2017-08-11    74.000000\n",
              "2017-08-14    74.000000\n",
              "2017-08-15    74.000000\n",
              "Name: High, dtype: float64"
            ]
          },
          "metadata": {},
          "execution_count": 58
        }
      ],
      "source": [
        "df_tesla['High'].rolling(11).max().head(20)"
      ]
    },
    {
      "cell_type": "code",
      "execution_count": 59,
      "id": "1507d710",
      "metadata": {
        "colab": {
          "base_uri": "https://localhost:8080/",
          "height": 238
        },
        "id": "1507d710",
        "outputId": "925fec90-8763-4dc8-96f2-5372add818f1"
      },
      "outputs": [
        {
          "output_type": "execute_result",
          "data": {
            "text/plain": [
              "                 High        Low       Open      Close      Volume  Adj Close\n",
              "Date                                                                         \n",
              "2017-07-19  66.330002  64.643997  65.646004  65.052002  31785000.0  65.052002\n",
              "2017-07-20  66.043999  64.839996  65.379997  65.984001  25831000.0  65.984001\n",
              "2017-07-21  66.251999  65.160004  65.891998  65.680000  24508000.0  65.680000\n",
              "2017-07-24  68.680000  66.001999  66.047997  68.503998  43185500.0  68.503998\n",
              "2017-07-25  69.120003  66.830002  69.000000  67.919998  34946000.0  67.919998"
            ],
            "text/html": [
              "\n",
              "  <div id=\"df-39cfa257-934c-41e3-98b6-5d6e9cf00ce9\">\n",
              "    <div class=\"colab-df-container\">\n",
              "      <div>\n",
              "<style scoped>\n",
              "    .dataframe tbody tr th:only-of-type {\n",
              "        vertical-align: middle;\n",
              "    }\n",
              "\n",
              "    .dataframe tbody tr th {\n",
              "        vertical-align: top;\n",
              "    }\n",
              "\n",
              "    .dataframe thead th {\n",
              "        text-align: right;\n",
              "    }\n",
              "</style>\n",
              "<table border=\"1\" class=\"dataframe\">\n",
              "  <thead>\n",
              "    <tr style=\"text-align: right;\">\n",
              "      <th></th>\n",
              "      <th>High</th>\n",
              "      <th>Low</th>\n",
              "      <th>Open</th>\n",
              "      <th>Close</th>\n",
              "      <th>Volume</th>\n",
              "      <th>Adj Close</th>\n",
              "    </tr>\n",
              "    <tr>\n",
              "      <th>Date</th>\n",
              "      <th></th>\n",
              "      <th></th>\n",
              "      <th></th>\n",
              "      <th></th>\n",
              "      <th></th>\n",
              "      <th></th>\n",
              "    </tr>\n",
              "  </thead>\n",
              "  <tbody>\n",
              "    <tr>\n",
              "      <th>2017-07-19</th>\n",
              "      <td>66.330002</td>\n",
              "      <td>64.643997</td>\n",
              "      <td>65.646004</td>\n",
              "      <td>65.052002</td>\n",
              "      <td>31785000.0</td>\n",
              "      <td>65.052002</td>\n",
              "    </tr>\n",
              "    <tr>\n",
              "      <th>2017-07-20</th>\n",
              "      <td>66.043999</td>\n",
              "      <td>64.839996</td>\n",
              "      <td>65.379997</td>\n",
              "      <td>65.984001</td>\n",
              "      <td>25831000.0</td>\n",
              "      <td>65.984001</td>\n",
              "    </tr>\n",
              "    <tr>\n",
              "      <th>2017-07-21</th>\n",
              "      <td>66.251999</td>\n",
              "      <td>65.160004</td>\n",
              "      <td>65.891998</td>\n",
              "      <td>65.680000</td>\n",
              "      <td>24508000.0</td>\n",
              "      <td>65.680000</td>\n",
              "    </tr>\n",
              "    <tr>\n",
              "      <th>2017-07-24</th>\n",
              "      <td>68.680000</td>\n",
              "      <td>66.001999</td>\n",
              "      <td>66.047997</td>\n",
              "      <td>68.503998</td>\n",
              "      <td>43185500.0</td>\n",
              "      <td>68.503998</td>\n",
              "    </tr>\n",
              "    <tr>\n",
              "      <th>2017-07-25</th>\n",
              "      <td>69.120003</td>\n",
              "      <td>66.830002</td>\n",
              "      <td>69.000000</td>\n",
              "      <td>67.919998</td>\n",
              "      <td>34946000.0</td>\n",
              "      <td>67.919998</td>\n",
              "    </tr>\n",
              "  </tbody>\n",
              "</table>\n",
              "</div>\n",
              "      <button class=\"colab-df-convert\" onclick=\"convertToInteractive('df-39cfa257-934c-41e3-98b6-5d6e9cf00ce9')\"\n",
              "              title=\"Convert this dataframe to an interactive table.\"\n",
              "              style=\"display:none;\">\n",
              "        \n",
              "  <svg xmlns=\"http://www.w3.org/2000/svg\" height=\"24px\"viewBox=\"0 0 24 24\"\n",
              "       width=\"24px\">\n",
              "    <path d=\"M0 0h24v24H0V0z\" fill=\"none\"/>\n",
              "    <path d=\"M18.56 5.44l.94 2.06.94-2.06 2.06-.94-2.06-.94-.94-2.06-.94 2.06-2.06.94zm-11 1L8.5 8.5l.94-2.06 2.06-.94-2.06-.94L8.5 2.5l-.94 2.06-2.06.94zm10 10l.94 2.06.94-2.06 2.06-.94-2.06-.94-.94-2.06-.94 2.06-2.06.94z\"/><path d=\"M17.41 7.96l-1.37-1.37c-.4-.4-.92-.59-1.43-.59-.52 0-1.04.2-1.43.59L10.3 9.45l-7.72 7.72c-.78.78-.78 2.05 0 2.83L4 21.41c.39.39.9.59 1.41.59.51 0 1.02-.2 1.41-.59l7.78-7.78 2.81-2.81c.8-.78.8-2.07 0-2.86zM5.41 20L4 18.59l7.72-7.72 1.47 1.35L5.41 20z\"/>\n",
              "  </svg>\n",
              "      </button>\n",
              "      \n",
              "  <style>\n",
              "    .colab-df-container {\n",
              "      display:flex;\n",
              "      flex-wrap:wrap;\n",
              "      gap: 12px;\n",
              "    }\n",
              "\n",
              "    .colab-df-convert {\n",
              "      background-color: #E8F0FE;\n",
              "      border: none;\n",
              "      border-radius: 50%;\n",
              "      cursor: pointer;\n",
              "      display: none;\n",
              "      fill: #1967D2;\n",
              "      height: 32px;\n",
              "      padding: 0 0 0 0;\n",
              "      width: 32px;\n",
              "    }\n",
              "\n",
              "    .colab-df-convert:hover {\n",
              "      background-color: #E2EBFA;\n",
              "      box-shadow: 0px 1px 2px rgba(60, 64, 67, 0.3), 0px 1px 3px 1px rgba(60, 64, 67, 0.15);\n",
              "      fill: #174EA6;\n",
              "    }\n",
              "\n",
              "    [theme=dark] .colab-df-convert {\n",
              "      background-color: #3B4455;\n",
              "      fill: #D2E3FC;\n",
              "    }\n",
              "\n",
              "    [theme=dark] .colab-df-convert:hover {\n",
              "      background-color: #434B5C;\n",
              "      box-shadow: 0px 1px 3px 1px rgba(0, 0, 0, 0.15);\n",
              "      filter: drop-shadow(0px 1px 2px rgba(0, 0, 0, 0.3));\n",
              "      fill: #FFFFFF;\n",
              "    }\n",
              "  </style>\n",
              "\n",
              "      <script>\n",
              "        const buttonEl =\n",
              "          document.querySelector('#df-39cfa257-934c-41e3-98b6-5d6e9cf00ce9 button.colab-df-convert');\n",
              "        buttonEl.style.display =\n",
              "          google.colab.kernel.accessAllowed ? 'block' : 'none';\n",
              "\n",
              "        async function convertToInteractive(key) {\n",
              "          const element = document.querySelector('#df-39cfa257-934c-41e3-98b6-5d6e9cf00ce9');\n",
              "          const dataTable =\n",
              "            await google.colab.kernel.invokeFunction('convertToInteractive',\n",
              "                                                     [key], {});\n",
              "          if (!dataTable) return;\n",
              "\n",
              "          const docLinkHtml = 'Like what you see? Visit the ' +\n",
              "            '<a target=\"_blank\" href=https://colab.research.google.com/notebooks/data_table.ipynb>data table notebook</a>'\n",
              "            + ' to learn more about interactive tables.';\n",
              "          element.innerHTML = '';\n",
              "          dataTable['output_type'] = 'display_data';\n",
              "          await google.colab.output.renderOutput(dataTable, element);\n",
              "          const docLink = document.createElement('div');\n",
              "          docLink.innerHTML = docLinkHtml;\n",
              "          element.appendChild(docLink);\n",
              "        }\n",
              "      </script>\n",
              "    </div>\n",
              "  </div>\n",
              "  "
            ]
          },
          "metadata": {},
          "execution_count": 59
        }
      ],
      "source": [
        "df_tesla.head()"
      ]
    },
    {
      "cell_type": "code",
      "execution_count": 60,
      "id": "f51c43cc",
      "metadata": {
        "id": "f51c43cc"
      },
      "outputs": [],
      "source": [
        "df_tesla['Open:30 days rolling']=df_tesla['Open'].rolling(30).mean()"
      ]
    },
    {
      "cell_type": "code",
      "execution_count": 61,
      "id": "b8275481",
      "metadata": {
        "colab": {
          "base_uri": "https://localhost:8080/",
          "height": 1000
        },
        "id": "b8275481",
        "outputId": "3560aded-6b8b-41cd-8e69-a86fc41ef850"
      },
      "outputs": [
        {
          "output_type": "execute_result",
          "data": {
            "text/plain": [
              "                 High        Low       Open      Close      Volume  Adj Close  \\\n",
              "Date                                                                            \n",
              "2017-07-19  66.330002  64.643997  65.646004  65.052002  31785000.0  65.052002   \n",
              "2017-07-20  66.043999  64.839996  65.379997  65.984001  25831000.0  65.984001   \n",
              "2017-07-21  66.251999  65.160004  65.891998  65.680000  24508000.0  65.680000   \n",
              "2017-07-24  68.680000  66.001999  66.047997  68.503998  43185500.0  68.503998   \n",
              "2017-07-25  69.120003  66.830002  69.000000  67.919998  34946000.0  67.919998   \n",
              "2017-07-26  69.099998  67.624001  68.071999  68.769997  24104000.0  68.769997   \n",
              "2017-07-27  69.500000  65.258003  69.199997  66.891998  41512000.0  66.891998   \n",
              "2017-07-28  67.919998  66.501999  67.377998  67.014000  24402000.0  67.014000   \n",
              "2017-07-31  68.297997  64.208000  67.099998  64.694000  42675500.0  64.694000   \n",
              "2017-08-01  64.889999  63.226002  64.599998  63.914001  41515500.0  63.914001   \n",
              "2017-08-02  65.424004  62.243999  63.787998  65.178001  65457500.0  65.178001   \n",
              "2017-08-03  70.000000  68.629997  69.066002  69.417999  67675000.0  69.417999   \n",
              "2017-08-04  71.454002  68.660004  69.400002  71.382004  46344500.0  71.382004   \n",
              "2017-08-07  71.896004  70.550003  71.470001  71.033997  31622500.0  71.033997   \n",
              "2017-08-08  73.716003  71.480003  71.505997  73.043999  37249000.0  73.043999   \n",
              "2017-08-09  74.000000  71.790001  72.199997  72.706001  34460500.0  72.706001   \n",
              "2017-08-10  73.330002  70.931999  72.320000  71.080002  35464500.0  71.080002   \n",
              "2017-08-11  72.251999  70.723999  71.393997  71.573997  21829000.0  71.573997   \n",
              "2017-08-14  73.531998  72.519997  72.926003  72.760002  22596000.0  72.760002   \n",
              "2017-08-15  73.098000  71.874001  73.040001  72.466003  15425500.0  72.466003   \n",
              "2017-08-16  73.300003  72.503998  72.599998  72.582001  17069000.0  72.582001   \n",
              "2017-08-17  72.660004  70.318001  72.241997  70.384003  25138500.0  70.384003   \n",
              "2017-08-18  70.800003  69.160004  70.582001  69.491997  27041000.0  69.491997   \n",
              "2017-08-21  69.164001  66.370003  69.164001  67.571999  32477000.0  67.571999   \n",
              "2017-08-22  68.447998  67.473999  68.225998  68.269997  21610000.0  68.269997   \n",
              "2017-08-23  70.697998  67.660004  67.797997  70.554001  24772500.0  70.554001   \n",
              "2017-08-24  71.332001  69.947998  70.503998  70.585999  22923500.0  70.585999   \n",
              "2017-08-25  71.138000  69.459999  70.848000  69.610001  17420000.0  69.610001   \n",
              "2017-08-28  69.470001  67.944000  69.456001  69.132004  18820000.0  69.132004   \n",
              "2017-08-29  69.809998  67.750000  67.896004  69.472000  20368500.0  69.472000   \n",
              "2017-08-30  70.694000  69.400002  69.933998  70.636002  17064500.0  70.636002   \n",
              "\n",
              "            Open:30 days rolling  \n",
              "Date                              \n",
              "2017-07-19                   NaN  \n",
              "2017-07-20                   NaN  \n",
              "2017-07-21                   NaN  \n",
              "2017-07-24                   NaN  \n",
              "2017-07-25                   NaN  \n",
              "2017-07-26                   NaN  \n",
              "2017-07-27                   NaN  \n",
              "2017-07-28                   NaN  \n",
              "2017-07-31                   NaN  \n",
              "2017-08-01                   NaN  \n",
              "2017-08-02                   NaN  \n",
              "2017-08-03                   NaN  \n",
              "2017-08-04                   NaN  \n",
              "2017-08-07                   NaN  \n",
              "2017-08-08                   NaN  \n",
              "2017-08-09                   NaN  \n",
              "2017-08-10                   NaN  \n",
              "2017-08-11                   NaN  \n",
              "2017-08-14                   NaN  \n",
              "2017-08-15                   NaN  \n",
              "2017-08-16                   NaN  \n",
              "2017-08-17                   NaN  \n",
              "2017-08-18                   NaN  \n",
              "2017-08-21                   NaN  \n",
              "2017-08-22                   NaN  \n",
              "2017-08-23                   NaN  \n",
              "2017-08-24                   NaN  \n",
              "2017-08-25                   NaN  \n",
              "2017-08-28                   NaN  \n",
              "2017-08-29             69.158066  \n",
              "2017-08-30             69.300999  "
            ],
            "text/html": [
              "\n",
              "  <div id=\"df-2c5e9872-3b70-42f7-97d4-6705dd83152e\">\n",
              "    <div class=\"colab-df-container\">\n",
              "      <div>\n",
              "<style scoped>\n",
              "    .dataframe tbody tr th:only-of-type {\n",
              "        vertical-align: middle;\n",
              "    }\n",
              "\n",
              "    .dataframe tbody tr th {\n",
              "        vertical-align: top;\n",
              "    }\n",
              "\n",
              "    .dataframe thead th {\n",
              "        text-align: right;\n",
              "    }\n",
              "</style>\n",
              "<table border=\"1\" class=\"dataframe\">\n",
              "  <thead>\n",
              "    <tr style=\"text-align: right;\">\n",
              "      <th></th>\n",
              "      <th>High</th>\n",
              "      <th>Low</th>\n",
              "      <th>Open</th>\n",
              "      <th>Close</th>\n",
              "      <th>Volume</th>\n",
              "      <th>Adj Close</th>\n",
              "      <th>Open:30 days rolling</th>\n",
              "    </tr>\n",
              "    <tr>\n",
              "      <th>Date</th>\n",
              "      <th></th>\n",
              "      <th></th>\n",
              "      <th></th>\n",
              "      <th></th>\n",
              "      <th></th>\n",
              "      <th></th>\n",
              "      <th></th>\n",
              "    </tr>\n",
              "  </thead>\n",
              "  <tbody>\n",
              "    <tr>\n",
              "      <th>2017-07-19</th>\n",
              "      <td>66.330002</td>\n",
              "      <td>64.643997</td>\n",
              "      <td>65.646004</td>\n",
              "      <td>65.052002</td>\n",
              "      <td>31785000.0</td>\n",
              "      <td>65.052002</td>\n",
              "      <td>NaN</td>\n",
              "    </tr>\n",
              "    <tr>\n",
              "      <th>2017-07-20</th>\n",
              "      <td>66.043999</td>\n",
              "      <td>64.839996</td>\n",
              "      <td>65.379997</td>\n",
              "      <td>65.984001</td>\n",
              "      <td>25831000.0</td>\n",
              "      <td>65.984001</td>\n",
              "      <td>NaN</td>\n",
              "    </tr>\n",
              "    <tr>\n",
              "      <th>2017-07-21</th>\n",
              "      <td>66.251999</td>\n",
              "      <td>65.160004</td>\n",
              "      <td>65.891998</td>\n",
              "      <td>65.680000</td>\n",
              "      <td>24508000.0</td>\n",
              "      <td>65.680000</td>\n",
              "      <td>NaN</td>\n",
              "    </tr>\n",
              "    <tr>\n",
              "      <th>2017-07-24</th>\n",
              "      <td>68.680000</td>\n",
              "      <td>66.001999</td>\n",
              "      <td>66.047997</td>\n",
              "      <td>68.503998</td>\n",
              "      <td>43185500.0</td>\n",
              "      <td>68.503998</td>\n",
              "      <td>NaN</td>\n",
              "    </tr>\n",
              "    <tr>\n",
              "      <th>2017-07-25</th>\n",
              "      <td>69.120003</td>\n",
              "      <td>66.830002</td>\n",
              "      <td>69.000000</td>\n",
              "      <td>67.919998</td>\n",
              "      <td>34946000.0</td>\n",
              "      <td>67.919998</td>\n",
              "      <td>NaN</td>\n",
              "    </tr>\n",
              "    <tr>\n",
              "      <th>2017-07-26</th>\n",
              "      <td>69.099998</td>\n",
              "      <td>67.624001</td>\n",
              "      <td>68.071999</td>\n",
              "      <td>68.769997</td>\n",
              "      <td>24104000.0</td>\n",
              "      <td>68.769997</td>\n",
              "      <td>NaN</td>\n",
              "    </tr>\n",
              "    <tr>\n",
              "      <th>2017-07-27</th>\n",
              "      <td>69.500000</td>\n",
              "      <td>65.258003</td>\n",
              "      <td>69.199997</td>\n",
              "      <td>66.891998</td>\n",
              "      <td>41512000.0</td>\n",
              "      <td>66.891998</td>\n",
              "      <td>NaN</td>\n",
              "    </tr>\n",
              "    <tr>\n",
              "      <th>2017-07-28</th>\n",
              "      <td>67.919998</td>\n",
              "      <td>66.501999</td>\n",
              "      <td>67.377998</td>\n",
              "      <td>67.014000</td>\n",
              "      <td>24402000.0</td>\n",
              "      <td>67.014000</td>\n",
              "      <td>NaN</td>\n",
              "    </tr>\n",
              "    <tr>\n",
              "      <th>2017-07-31</th>\n",
              "      <td>68.297997</td>\n",
              "      <td>64.208000</td>\n",
              "      <td>67.099998</td>\n",
              "      <td>64.694000</td>\n",
              "      <td>42675500.0</td>\n",
              "      <td>64.694000</td>\n",
              "      <td>NaN</td>\n",
              "    </tr>\n",
              "    <tr>\n",
              "      <th>2017-08-01</th>\n",
              "      <td>64.889999</td>\n",
              "      <td>63.226002</td>\n",
              "      <td>64.599998</td>\n",
              "      <td>63.914001</td>\n",
              "      <td>41515500.0</td>\n",
              "      <td>63.914001</td>\n",
              "      <td>NaN</td>\n",
              "    </tr>\n",
              "    <tr>\n",
              "      <th>2017-08-02</th>\n",
              "      <td>65.424004</td>\n",
              "      <td>62.243999</td>\n",
              "      <td>63.787998</td>\n",
              "      <td>65.178001</td>\n",
              "      <td>65457500.0</td>\n",
              "      <td>65.178001</td>\n",
              "      <td>NaN</td>\n",
              "    </tr>\n",
              "    <tr>\n",
              "      <th>2017-08-03</th>\n",
              "      <td>70.000000</td>\n",
              "      <td>68.629997</td>\n",
              "      <td>69.066002</td>\n",
              "      <td>69.417999</td>\n",
              "      <td>67675000.0</td>\n",
              "      <td>69.417999</td>\n",
              "      <td>NaN</td>\n",
              "    </tr>\n",
              "    <tr>\n",
              "      <th>2017-08-04</th>\n",
              "      <td>71.454002</td>\n",
              "      <td>68.660004</td>\n",
              "      <td>69.400002</td>\n",
              "      <td>71.382004</td>\n",
              "      <td>46344500.0</td>\n",
              "      <td>71.382004</td>\n",
              "      <td>NaN</td>\n",
              "    </tr>\n",
              "    <tr>\n",
              "      <th>2017-08-07</th>\n",
              "      <td>71.896004</td>\n",
              "      <td>70.550003</td>\n",
              "      <td>71.470001</td>\n",
              "      <td>71.033997</td>\n",
              "      <td>31622500.0</td>\n",
              "      <td>71.033997</td>\n",
              "      <td>NaN</td>\n",
              "    </tr>\n",
              "    <tr>\n",
              "      <th>2017-08-08</th>\n",
              "      <td>73.716003</td>\n",
              "      <td>71.480003</td>\n",
              "      <td>71.505997</td>\n",
              "      <td>73.043999</td>\n",
              "      <td>37249000.0</td>\n",
              "      <td>73.043999</td>\n",
              "      <td>NaN</td>\n",
              "    </tr>\n",
              "    <tr>\n",
              "      <th>2017-08-09</th>\n",
              "      <td>74.000000</td>\n",
              "      <td>71.790001</td>\n",
              "      <td>72.199997</td>\n",
              "      <td>72.706001</td>\n",
              "      <td>34460500.0</td>\n",
              "      <td>72.706001</td>\n",
              "      <td>NaN</td>\n",
              "    </tr>\n",
              "    <tr>\n",
              "      <th>2017-08-10</th>\n",
              "      <td>73.330002</td>\n",
              "      <td>70.931999</td>\n",
              "      <td>72.320000</td>\n",
              "      <td>71.080002</td>\n",
              "      <td>35464500.0</td>\n",
              "      <td>71.080002</td>\n",
              "      <td>NaN</td>\n",
              "    </tr>\n",
              "    <tr>\n",
              "      <th>2017-08-11</th>\n",
              "      <td>72.251999</td>\n",
              "      <td>70.723999</td>\n",
              "      <td>71.393997</td>\n",
              "      <td>71.573997</td>\n",
              "      <td>21829000.0</td>\n",
              "      <td>71.573997</td>\n",
              "      <td>NaN</td>\n",
              "    </tr>\n",
              "    <tr>\n",
              "      <th>2017-08-14</th>\n",
              "      <td>73.531998</td>\n",
              "      <td>72.519997</td>\n",
              "      <td>72.926003</td>\n",
              "      <td>72.760002</td>\n",
              "      <td>22596000.0</td>\n",
              "      <td>72.760002</td>\n",
              "      <td>NaN</td>\n",
              "    </tr>\n",
              "    <tr>\n",
              "      <th>2017-08-15</th>\n",
              "      <td>73.098000</td>\n",
              "      <td>71.874001</td>\n",
              "      <td>73.040001</td>\n",
              "      <td>72.466003</td>\n",
              "      <td>15425500.0</td>\n",
              "      <td>72.466003</td>\n",
              "      <td>NaN</td>\n",
              "    </tr>\n",
              "    <tr>\n",
              "      <th>2017-08-16</th>\n",
              "      <td>73.300003</td>\n",
              "      <td>72.503998</td>\n",
              "      <td>72.599998</td>\n",
              "      <td>72.582001</td>\n",
              "      <td>17069000.0</td>\n",
              "      <td>72.582001</td>\n",
              "      <td>NaN</td>\n",
              "    </tr>\n",
              "    <tr>\n",
              "      <th>2017-08-17</th>\n",
              "      <td>72.660004</td>\n",
              "      <td>70.318001</td>\n",
              "      <td>72.241997</td>\n",
              "      <td>70.384003</td>\n",
              "      <td>25138500.0</td>\n",
              "      <td>70.384003</td>\n",
              "      <td>NaN</td>\n",
              "    </tr>\n",
              "    <tr>\n",
              "      <th>2017-08-18</th>\n",
              "      <td>70.800003</td>\n",
              "      <td>69.160004</td>\n",
              "      <td>70.582001</td>\n",
              "      <td>69.491997</td>\n",
              "      <td>27041000.0</td>\n",
              "      <td>69.491997</td>\n",
              "      <td>NaN</td>\n",
              "    </tr>\n",
              "    <tr>\n",
              "      <th>2017-08-21</th>\n",
              "      <td>69.164001</td>\n",
              "      <td>66.370003</td>\n",
              "      <td>69.164001</td>\n",
              "      <td>67.571999</td>\n",
              "      <td>32477000.0</td>\n",
              "      <td>67.571999</td>\n",
              "      <td>NaN</td>\n",
              "    </tr>\n",
              "    <tr>\n",
              "      <th>2017-08-22</th>\n",
              "      <td>68.447998</td>\n",
              "      <td>67.473999</td>\n",
              "      <td>68.225998</td>\n",
              "      <td>68.269997</td>\n",
              "      <td>21610000.0</td>\n",
              "      <td>68.269997</td>\n",
              "      <td>NaN</td>\n",
              "    </tr>\n",
              "    <tr>\n",
              "      <th>2017-08-23</th>\n",
              "      <td>70.697998</td>\n",
              "      <td>67.660004</td>\n",
              "      <td>67.797997</td>\n",
              "      <td>70.554001</td>\n",
              "      <td>24772500.0</td>\n",
              "      <td>70.554001</td>\n",
              "      <td>NaN</td>\n",
              "    </tr>\n",
              "    <tr>\n",
              "      <th>2017-08-24</th>\n",
              "      <td>71.332001</td>\n",
              "      <td>69.947998</td>\n",
              "      <td>70.503998</td>\n",
              "      <td>70.585999</td>\n",
              "      <td>22923500.0</td>\n",
              "      <td>70.585999</td>\n",
              "      <td>NaN</td>\n",
              "    </tr>\n",
              "    <tr>\n",
              "      <th>2017-08-25</th>\n",
              "      <td>71.138000</td>\n",
              "      <td>69.459999</td>\n",
              "      <td>70.848000</td>\n",
              "      <td>69.610001</td>\n",
              "      <td>17420000.0</td>\n",
              "      <td>69.610001</td>\n",
              "      <td>NaN</td>\n",
              "    </tr>\n",
              "    <tr>\n",
              "      <th>2017-08-28</th>\n",
              "      <td>69.470001</td>\n",
              "      <td>67.944000</td>\n",
              "      <td>69.456001</td>\n",
              "      <td>69.132004</td>\n",
              "      <td>18820000.0</td>\n",
              "      <td>69.132004</td>\n",
              "      <td>NaN</td>\n",
              "    </tr>\n",
              "    <tr>\n",
              "      <th>2017-08-29</th>\n",
              "      <td>69.809998</td>\n",
              "      <td>67.750000</td>\n",
              "      <td>67.896004</td>\n",
              "      <td>69.472000</td>\n",
              "      <td>20368500.0</td>\n",
              "      <td>69.472000</td>\n",
              "      <td>69.158066</td>\n",
              "    </tr>\n",
              "    <tr>\n",
              "      <th>2017-08-30</th>\n",
              "      <td>70.694000</td>\n",
              "      <td>69.400002</td>\n",
              "      <td>69.933998</td>\n",
              "      <td>70.636002</td>\n",
              "      <td>17064500.0</td>\n",
              "      <td>70.636002</td>\n",
              "      <td>69.300999</td>\n",
              "    </tr>\n",
              "  </tbody>\n",
              "</table>\n",
              "</div>\n",
              "      <button class=\"colab-df-convert\" onclick=\"convertToInteractive('df-2c5e9872-3b70-42f7-97d4-6705dd83152e')\"\n",
              "              title=\"Convert this dataframe to an interactive table.\"\n",
              "              style=\"display:none;\">\n",
              "        \n",
              "  <svg xmlns=\"http://www.w3.org/2000/svg\" height=\"24px\"viewBox=\"0 0 24 24\"\n",
              "       width=\"24px\">\n",
              "    <path d=\"M0 0h24v24H0V0z\" fill=\"none\"/>\n",
              "    <path d=\"M18.56 5.44l.94 2.06.94-2.06 2.06-.94-2.06-.94-.94-2.06-.94 2.06-2.06.94zm-11 1L8.5 8.5l.94-2.06 2.06-.94-2.06-.94L8.5 2.5l-.94 2.06-2.06.94zm10 10l.94 2.06.94-2.06 2.06-.94-2.06-.94-.94-2.06-.94 2.06-2.06.94z\"/><path d=\"M17.41 7.96l-1.37-1.37c-.4-.4-.92-.59-1.43-.59-.52 0-1.04.2-1.43.59L10.3 9.45l-7.72 7.72c-.78.78-.78 2.05 0 2.83L4 21.41c.39.39.9.59 1.41.59.51 0 1.02-.2 1.41-.59l7.78-7.78 2.81-2.81c.8-.78.8-2.07 0-2.86zM5.41 20L4 18.59l7.72-7.72 1.47 1.35L5.41 20z\"/>\n",
              "  </svg>\n",
              "      </button>\n",
              "      \n",
              "  <style>\n",
              "    .colab-df-container {\n",
              "      display:flex;\n",
              "      flex-wrap:wrap;\n",
              "      gap: 12px;\n",
              "    }\n",
              "\n",
              "    .colab-df-convert {\n",
              "      background-color: #E8F0FE;\n",
              "      border: none;\n",
              "      border-radius: 50%;\n",
              "      cursor: pointer;\n",
              "      display: none;\n",
              "      fill: #1967D2;\n",
              "      height: 32px;\n",
              "      padding: 0 0 0 0;\n",
              "      width: 32px;\n",
              "    }\n",
              "\n",
              "    .colab-df-convert:hover {\n",
              "      background-color: #E2EBFA;\n",
              "      box-shadow: 0px 1px 2px rgba(60, 64, 67, 0.3), 0px 1px 3px 1px rgba(60, 64, 67, 0.15);\n",
              "      fill: #174EA6;\n",
              "    }\n",
              "\n",
              "    [theme=dark] .colab-df-convert {\n",
              "      background-color: #3B4455;\n",
              "      fill: #D2E3FC;\n",
              "    }\n",
              "\n",
              "    [theme=dark] .colab-df-convert:hover {\n",
              "      background-color: #434B5C;\n",
              "      box-shadow: 0px 1px 3px 1px rgba(0, 0, 0, 0.15);\n",
              "      filter: drop-shadow(0px 1px 2px rgba(0, 0, 0, 0.3));\n",
              "      fill: #FFFFFF;\n",
              "    }\n",
              "  </style>\n",
              "\n",
              "      <script>\n",
              "        const buttonEl =\n",
              "          document.querySelector('#df-2c5e9872-3b70-42f7-97d4-6705dd83152e button.colab-df-convert');\n",
              "        buttonEl.style.display =\n",
              "          google.colab.kernel.accessAllowed ? 'block' : 'none';\n",
              "\n",
              "        async function convertToInteractive(key) {\n",
              "          const element = document.querySelector('#df-2c5e9872-3b70-42f7-97d4-6705dd83152e');\n",
              "          const dataTable =\n",
              "            await google.colab.kernel.invokeFunction('convertToInteractive',\n",
              "                                                     [key], {});\n",
              "          if (!dataTable) return;\n",
              "\n",
              "          const docLinkHtml = 'Like what you see? Visit the ' +\n",
              "            '<a target=\"_blank\" href=https://colab.research.google.com/notebooks/data_table.ipynb>data table notebook</a>'\n",
              "            + ' to learn more about interactive tables.';\n",
              "          element.innerHTML = '';\n",
              "          dataTable['output_type'] = 'display_data';\n",
              "          await google.colab.output.renderOutput(dataTable, element);\n",
              "          const docLink = document.createElement('div');\n",
              "          docLink.innerHTML = docLinkHtml;\n",
              "          element.appendChild(docLink);\n",
              "        }\n",
              "      </script>\n",
              "    </div>\n",
              "  </div>\n",
              "  "
            ]
          },
          "metadata": {},
          "execution_count": 61
        }
      ],
      "source": [
        "df_tesla.head(31)"
      ]
    },
    {
      "cell_type": "code",
      "execution_count": 62,
      "id": "ee4f2520",
      "metadata": {
        "colab": {
          "base_uri": "https://localhost:8080/",
          "height": 335
        },
        "id": "ee4f2520",
        "outputId": "932faa7a-d0e2-4121-f128-9cb31edbfa93"
      },
      "outputs": [
        {
          "output_type": "execute_result",
          "data": {
            "text/plain": [
              "<matplotlib.axes._subplots.AxesSubplot at 0x7f33aaad5450>"
            ]
          },
          "metadata": {},
          "execution_count": 62
        },
        {
          "output_type": "display_data",
          "data": {
            "text/plain": [
              "<Figure size 864x360 with 1 Axes>"
            ],
            "image/png": "[encoded data removed]"
          },
          "metadata": {
            "needs_background": "light"
          }
        }
      ],
      "source": [
        "df_tesla[['Open','Open:30 days rolling']].plot(figsize=(12,5))"
      ]
    },
    {
      "cell_type": "markdown",
      "id": "10afd792",
      "metadata": {
        "id": "10afd792"
      },
      "source": [
        "##Assignment\n",
        "##news\n",
        "1. Read the Microsoft Data using Pandas Data reader\n",
        "2. Get the maximum price of the share from 2017 to 2022\n",
        "3. Which is the date of the highest price of the stock?\n",
        "4. Which is the date of the lowest price of the stock?"
      ]
    }
  ],
  "metadata": {
    "kernelspec": {
      "display_name": "Python 3 (ipykernel)",
      "language": "python",
      "name": "python3"
    },
    "language_info": {
      "codemirror_mode": {
        "name": "ipython",
        "version": 3
      },
      "file_extension": ".py",
      "mimetype": "text/x-python",
      "name": "python",
      "nbconvert_exporter": "python",
      "pygments_lexer": "ipython3",
      "version": "3.9.7"
    },
    "colab": {
      "name": "Time Series EDA.ipynb",
      "provenance": [],
      "include_colab_link": true
    }
  },
  "nbformat": 4,
  "nbformat_minor": 5
}